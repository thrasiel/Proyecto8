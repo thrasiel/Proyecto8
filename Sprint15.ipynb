{
 "cells": [
  {
   "cell_type": "markdown",
   "metadata": {},
   "source": [
    "# Proyecto Sprint 15: Aprendizaje Automático para Textos\n",
    "\n",
    "## Descripcipción del proyecto"
   ]
  },
  {
   "cell_type": "markdown",
   "metadata": {},
   "source": [
    "Film Junky Union, una nueva comunidad vanguardista para los aficionados de las películas clásicas, está desarrollando un sistema para filtrar y categorizar reseñas de películas. Tu objetivo es entrenar un modelo para detectar las críticas negativas de forma automática. Para lograrlo, utilizarás un conjunto de datos de reseñas de películas de IMDB con leyendas de polaridad para construir un modelo para clasificar las reseñas positivas y negativas. Este deberá alcanzar un valor F1 de al menos 0.85."
   ]
  },
  {
   "cell_type": "markdown",
   "metadata": {},
   "source": [
    "## Inicialización\n",
    "\n",
    "Comenzamos inicializando nuestras librerías necesarias para cada apartado."
   ]
  },
  {
   "cell_type": "code",
   "execution_count": 2,
   "metadata": {},
   "outputs": [],
   "source": [
    "import math\n",
    "\n",
    "import numpy as np\n",
    "import pandas as pd\n",
    "\n",
    "import matplotlib\n",
    "import matplotlib.pyplot as plt\n",
    "import matplotlib.dates as mdates\n",
    "import seaborn as sns\n",
    "\n",
    "from tqdm.auto import tqdm"
   ]
  },
  {
   "cell_type": "code",
   "execution_count": 2,
   "metadata": {},
   "outputs": [],
   "source": [
    "%matplotlib inline\n",
    "%config InlineBackend.figure_format = 'png'\n",
    "# la siguiente línea proporciona gráficos de mejor calidad en pantallas HiDPI\n",
    "# %config InlineBackend.figure_format = 'retina'\n",
    "\n",
    "plt.style.use('seaborn')"
   ]
  },
  {
   "cell_type": "code",
   "execution_count": 3,
   "metadata": {},
   "outputs": [],
   "source": [
    "# esto es para usar progress_apply, puedes leer más en https://pypi.org/project/tqdm/#pandas-integration\n",
    "tqdm.pandas()"
   ]
  },
  {
   "cell_type": "markdown",
   "metadata": {},
   "source": [
    "## Cargar datos\n",
    "\n",
    "La carga de datos contiene el separador de tabulador y posteriormente revisamos sus columnas y sus tipos con metodo info()."
   ]
  },
  {
   "cell_type": "code",
   "execution_count": 6,
   "metadata": {},
   "outputs": [],
   "source": [
    "df_reviews = pd.read_csv('/datasets/imdb_reviews.tsv', sep='\\t', dtype={'votes': 'Int64'})"
   ]
  },
  {
   "cell_type": "code",
   "execution_count": 7,
   "metadata": {},
   "outputs": [
    {
     "name": "stdout",
     "output_type": "stream",
     "text": [
      "<class 'pandas.core.frame.DataFrame'>\n",
      "RangeIndex: 47331 entries, 0 to 47330\n",
      "Data columns (total 17 columns):\n",
      " #   Column           Non-Null Count  Dtype  \n",
      "---  ------           --------------  -----  \n",
      " 0   tconst           47331 non-null  object \n",
      " 1   title_type       47331 non-null  object \n",
      " 2   primary_title    47331 non-null  object \n",
      " 3   original_title   47331 non-null  object \n",
      " 4   start_year       47331 non-null  int64  \n",
      " 5   end_year         47331 non-null  object \n",
      " 6   runtime_minutes  47331 non-null  object \n",
      " 7   is_adult         47331 non-null  int64  \n",
      " 8   genres           47331 non-null  object \n",
      " 9   average_rating   47329 non-null  float64\n",
      " 10  votes            47329 non-null  Int64  \n",
      " 11  review           47331 non-null  object \n",
      " 12  rating           47331 non-null  int64  \n",
      " 13  sp               47331 non-null  object \n",
      " 14  pos              47331 non-null  int64  \n",
      " 15  ds_part          47331 non-null  object \n",
      " 16  idx              47331 non-null  int64  \n",
      "dtypes: Int64(1), float64(1), int64(5), object(10)\n",
      "memory usage: 6.2+ MB\n"
     ]
    },
    {
     "data": {
      "text/html": [
       "<div>\n",
       "<style scoped>\n",
       "    .dataframe tbody tr th:only-of-type {\n",
       "        vertical-align: middle;\n",
       "    }\n",
       "\n",
       "    .dataframe tbody tr th {\n",
       "        vertical-align: top;\n",
       "    }\n",
       "\n",
       "    .dataframe thead th {\n",
       "        text-align: right;\n",
       "    }\n",
       "</style>\n",
       "<table border=\"1\" class=\"dataframe\">\n",
       "  <thead>\n",
       "    <tr style=\"text-align: right;\">\n",
       "      <th></th>\n",
       "      <th>tconst</th>\n",
       "      <th>title_type</th>\n",
       "      <th>primary_title</th>\n",
       "      <th>original_title</th>\n",
       "      <th>start_year</th>\n",
       "      <th>end_year</th>\n",
       "      <th>runtime_minutes</th>\n",
       "      <th>is_adult</th>\n",
       "      <th>genres</th>\n",
       "      <th>average_rating</th>\n",
       "      <th>votes</th>\n",
       "      <th>review</th>\n",
       "      <th>rating</th>\n",
       "      <th>sp</th>\n",
       "      <th>pos</th>\n",
       "      <th>ds_part</th>\n",
       "      <th>idx</th>\n",
       "    </tr>\n",
       "  </thead>\n",
       "  <tbody>\n",
       "    <tr>\n",
       "      <th>0</th>\n",
       "      <td>tt0068152</td>\n",
       "      <td>movie</td>\n",
       "      <td>$</td>\n",
       "      <td>$</td>\n",
       "      <td>1971</td>\n",
       "      <td>\\N</td>\n",
       "      <td>121</td>\n",
       "      <td>0</td>\n",
       "      <td>Comedy,Crime,Drama</td>\n",
       "      <td>6.3</td>\n",
       "      <td>2218</td>\n",
       "      <td>The pakage implies that Warren Beatty and Gold...</td>\n",
       "      <td>1</td>\n",
       "      <td>neg</td>\n",
       "      <td>0</td>\n",
       "      <td>train</td>\n",
       "      <td>8335</td>\n",
       "    </tr>\n",
       "    <tr>\n",
       "      <th>1</th>\n",
       "      <td>tt0068152</td>\n",
       "      <td>movie</td>\n",
       "      <td>$</td>\n",
       "      <td>$</td>\n",
       "      <td>1971</td>\n",
       "      <td>\\N</td>\n",
       "      <td>121</td>\n",
       "      <td>0</td>\n",
       "      <td>Comedy,Crime,Drama</td>\n",
       "      <td>6.3</td>\n",
       "      <td>2218</td>\n",
       "      <td>How the hell did they get this made?! Presenti...</td>\n",
       "      <td>1</td>\n",
       "      <td>neg</td>\n",
       "      <td>0</td>\n",
       "      <td>train</td>\n",
       "      <td>8336</td>\n",
       "    </tr>\n",
       "    <tr>\n",
       "      <th>2</th>\n",
       "      <td>tt0313150</td>\n",
       "      <td>short</td>\n",
       "      <td>'15'</td>\n",
       "      <td>'15'</td>\n",
       "      <td>2002</td>\n",
       "      <td>\\N</td>\n",
       "      <td>25</td>\n",
       "      <td>0</td>\n",
       "      <td>Comedy,Drama,Short</td>\n",
       "      <td>6.3</td>\n",
       "      <td>184</td>\n",
       "      <td>There is no real story the film seems more lik...</td>\n",
       "      <td>3</td>\n",
       "      <td>neg</td>\n",
       "      <td>0</td>\n",
       "      <td>test</td>\n",
       "      <td>2489</td>\n",
       "    </tr>\n",
       "    <tr>\n",
       "      <th>3</th>\n",
       "      <td>tt0313150</td>\n",
       "      <td>short</td>\n",
       "      <td>'15'</td>\n",
       "      <td>'15'</td>\n",
       "      <td>2002</td>\n",
       "      <td>\\N</td>\n",
       "      <td>25</td>\n",
       "      <td>0</td>\n",
       "      <td>Comedy,Drama,Short</td>\n",
       "      <td>6.3</td>\n",
       "      <td>184</td>\n",
       "      <td>Um .... a serious film about troubled teens in...</td>\n",
       "      <td>7</td>\n",
       "      <td>pos</td>\n",
       "      <td>1</td>\n",
       "      <td>test</td>\n",
       "      <td>9280</td>\n",
       "    </tr>\n",
       "    <tr>\n",
       "      <th>4</th>\n",
       "      <td>tt0313150</td>\n",
       "      <td>short</td>\n",
       "      <td>'15'</td>\n",
       "      <td>'15'</td>\n",
       "      <td>2002</td>\n",
       "      <td>\\N</td>\n",
       "      <td>25</td>\n",
       "      <td>0</td>\n",
       "      <td>Comedy,Drama,Short</td>\n",
       "      <td>6.3</td>\n",
       "      <td>184</td>\n",
       "      <td>I'm totally agree with GarryJohal from Singapo...</td>\n",
       "      <td>9</td>\n",
       "      <td>pos</td>\n",
       "      <td>1</td>\n",
       "      <td>test</td>\n",
       "      <td>9281</td>\n",
       "    </tr>\n",
       "    <tr>\n",
       "      <th>...</th>\n",
       "      <td>...</td>\n",
       "      <td>...</td>\n",
       "      <td>...</td>\n",
       "      <td>...</td>\n",
       "      <td>...</td>\n",
       "      <td>...</td>\n",
       "      <td>...</td>\n",
       "      <td>...</td>\n",
       "      <td>...</td>\n",
       "      <td>...</td>\n",
       "      <td>...</td>\n",
       "      <td>...</td>\n",
       "      <td>...</td>\n",
       "      <td>...</td>\n",
       "      <td>...</td>\n",
       "      <td>...</td>\n",
       "      <td>...</td>\n",
       "    </tr>\n",
       "    <tr>\n",
       "      <th>47326</th>\n",
       "      <td>tt0068398</td>\n",
       "      <td>tvEpisode</td>\n",
       "      <td>Étude in Black</td>\n",
       "      <td>Étude in Black</td>\n",
       "      <td>1972</td>\n",
       "      <td>\\N</td>\n",
       "      <td>97</td>\n",
       "      <td>0</td>\n",
       "      <td>Crime,Drama,Mystery</td>\n",
       "      <td>7.7</td>\n",
       "      <td>2254</td>\n",
       "      <td>This is another of my favorite Columbos. It sp...</td>\n",
       "      <td>10</td>\n",
       "      <td>pos</td>\n",
       "      <td>1</td>\n",
       "      <td>test</td>\n",
       "      <td>6038</td>\n",
       "    </tr>\n",
       "    <tr>\n",
       "      <th>47327</th>\n",
       "      <td>tt0223503</td>\n",
       "      <td>tvMovie</td>\n",
       "      <td>Îhatôbu gensô: KENjI no haru</td>\n",
       "      <td>Îhatôbu gensô: KENjI no haru</td>\n",
       "      <td>1996</td>\n",
       "      <td>\\N</td>\n",
       "      <td>55</td>\n",
       "      <td>0</td>\n",
       "      <td>Animation,Biography,Drama</td>\n",
       "      <td>7.3</td>\n",
       "      <td>278</td>\n",
       "      <td>Talk about being boring! I got this expecting ...</td>\n",
       "      <td>4</td>\n",
       "      <td>neg</td>\n",
       "      <td>0</td>\n",
       "      <td>test</td>\n",
       "      <td>989</td>\n",
       "    </tr>\n",
       "    <tr>\n",
       "      <th>47328</th>\n",
       "      <td>tt0223503</td>\n",
       "      <td>tvMovie</td>\n",
       "      <td>Îhatôbu gensô: KENjI no haru</td>\n",
       "      <td>Îhatôbu gensô: KENjI no haru</td>\n",
       "      <td>1996</td>\n",
       "      <td>\\N</td>\n",
       "      <td>55</td>\n",
       "      <td>0</td>\n",
       "      <td>Animation,Biography,Drama</td>\n",
       "      <td>7.3</td>\n",
       "      <td>278</td>\n",
       "      <td>I never thought I'd say this about a biopic, b...</td>\n",
       "      <td>8</td>\n",
       "      <td>pos</td>\n",
       "      <td>1</td>\n",
       "      <td>test</td>\n",
       "      <td>4163</td>\n",
       "    </tr>\n",
       "    <tr>\n",
       "      <th>47329</th>\n",
       "      <td>tt0223503</td>\n",
       "      <td>tvMovie</td>\n",
       "      <td>Îhatôbu gensô: KENjI no haru</td>\n",
       "      <td>Îhatôbu gensô: KENjI no haru</td>\n",
       "      <td>1996</td>\n",
       "      <td>\\N</td>\n",
       "      <td>55</td>\n",
       "      <td>0</td>\n",
       "      <td>Animation,Biography,Drama</td>\n",
       "      <td>7.3</td>\n",
       "      <td>278</td>\n",
       "      <td>Spirit and Chaos is an artistic biopic of Miya...</td>\n",
       "      <td>9</td>\n",
       "      <td>pos</td>\n",
       "      <td>1</td>\n",
       "      <td>test</td>\n",
       "      <td>4164</td>\n",
       "    </tr>\n",
       "    <tr>\n",
       "      <th>47330</th>\n",
       "      <td>tt0223503</td>\n",
       "      <td>tvMovie</td>\n",
       "      <td>Îhatôbu gensô: KENjI no haru</td>\n",
       "      <td>Îhatôbu gensô: KENjI no haru</td>\n",
       "      <td>1996</td>\n",
       "      <td>\\N</td>\n",
       "      <td>55</td>\n",
       "      <td>0</td>\n",
       "      <td>Animation,Biography,Drama</td>\n",
       "      <td>7.3</td>\n",
       "      <td>278</td>\n",
       "      <td>I'll make this brief. This was a joy to watch....</td>\n",
       "      <td>10</td>\n",
       "      <td>pos</td>\n",
       "      <td>1</td>\n",
       "      <td>test</td>\n",
       "      <td>4165</td>\n",
       "    </tr>\n",
       "  </tbody>\n",
       "</table>\n",
       "<p>47331 rows × 17 columns</p>\n",
       "</div>"
      ],
      "text/plain": [
       "          tconst title_type                 primary_title  \\\n",
       "0      tt0068152      movie                             $   \n",
       "1      tt0068152      movie                             $   \n",
       "2      tt0313150      short                          '15'   \n",
       "3      tt0313150      short                          '15'   \n",
       "4      tt0313150      short                          '15'   \n",
       "...          ...        ...                           ...   \n",
       "47326  tt0068398  tvEpisode                Étude in Black   \n",
       "47327  tt0223503    tvMovie  Îhatôbu gensô: KENjI no haru   \n",
       "47328  tt0223503    tvMovie  Îhatôbu gensô: KENjI no haru   \n",
       "47329  tt0223503    tvMovie  Îhatôbu gensô: KENjI no haru   \n",
       "47330  tt0223503    tvMovie  Îhatôbu gensô: KENjI no haru   \n",
       "\n",
       "                     original_title  start_year end_year runtime_minutes  \\\n",
       "0                                 $        1971       \\N             121   \n",
       "1                                 $        1971       \\N             121   \n",
       "2                              '15'        2002       \\N              25   \n",
       "3                              '15'        2002       \\N              25   \n",
       "4                              '15'        2002       \\N              25   \n",
       "...                             ...         ...      ...             ...   \n",
       "47326                Étude in Black        1972       \\N              97   \n",
       "47327  Îhatôbu gensô: KENjI no haru        1996       \\N              55   \n",
       "47328  Îhatôbu gensô: KENjI no haru        1996       \\N              55   \n",
       "47329  Îhatôbu gensô: KENjI no haru        1996       \\N              55   \n",
       "47330  Îhatôbu gensô: KENjI no haru        1996       \\N              55   \n",
       "\n",
       "       is_adult                     genres  average_rating  votes  \\\n",
       "0             0         Comedy,Crime,Drama             6.3   2218   \n",
       "1             0         Comedy,Crime,Drama             6.3   2218   \n",
       "2             0         Comedy,Drama,Short             6.3    184   \n",
       "3             0         Comedy,Drama,Short             6.3    184   \n",
       "4             0         Comedy,Drama,Short             6.3    184   \n",
       "...         ...                        ...             ...    ...   \n",
       "47326         0        Crime,Drama,Mystery             7.7   2254   \n",
       "47327         0  Animation,Biography,Drama             7.3    278   \n",
       "47328         0  Animation,Biography,Drama             7.3    278   \n",
       "47329         0  Animation,Biography,Drama             7.3    278   \n",
       "47330         0  Animation,Biography,Drama             7.3    278   \n",
       "\n",
       "                                                  review  rating   sp  pos  \\\n",
       "0      The pakage implies that Warren Beatty and Gold...       1  neg    0   \n",
       "1      How the hell did they get this made?! Presenti...       1  neg    0   \n",
       "2      There is no real story the film seems more lik...       3  neg    0   \n",
       "3      Um .... a serious film about troubled teens in...       7  pos    1   \n",
       "4      I'm totally agree with GarryJohal from Singapo...       9  pos    1   \n",
       "...                                                  ...     ...  ...  ...   \n",
       "47326  This is another of my favorite Columbos. It sp...      10  pos    1   \n",
       "47327  Talk about being boring! I got this expecting ...       4  neg    0   \n",
       "47328  I never thought I'd say this about a biopic, b...       8  pos    1   \n",
       "47329  Spirit and Chaos is an artistic biopic of Miya...       9  pos    1   \n",
       "47330  I'll make this brief. This was a joy to watch....      10  pos    1   \n",
       "\n",
       "      ds_part   idx  \n",
       "0       train  8335  \n",
       "1       train  8336  \n",
       "2        test  2489  \n",
       "3        test  9280  \n",
       "4        test  9281  \n",
       "...       ...   ...  \n",
       "47326    test  6038  \n",
       "47327    test   989  \n",
       "47328    test  4163  \n",
       "47329    test  4164  \n",
       "47330    test  4165  \n",
       "\n",
       "[47331 rows x 17 columns]"
      ]
     },
     "execution_count": 7,
     "metadata": {},
     "output_type": "execute_result"
    }
   ],
   "source": [
    "df_reviews.info()\n",
    "df_reviews"
   ]
  },
  {
   "cell_type": "markdown",
   "metadata": {},
   "source": [
    "## EDA"
   ]
  },
  {
   "cell_type": "markdown",
   "metadata": {},
   "source": [
    "Veamos el número de películas y reseñas a lo largo de los años."
   ]
  },
  {
   "cell_type": "code",
   "execution_count": 6,
   "metadata": {},
   "outputs": [
    {
     "data": {
      "image/png": "[encoded data removed]",
      "text/plain": [
       "<Figure size 1600x800 with 3 Axes>"
      ]
     },
     "metadata": {},
     "output_type": "display_data"
    }
   ],
   "source": [
    "fig, axs = plt.subplots(2, 1, figsize=(16, 8))\n",
    "\n",
    "ax = axs[0]\n",
    "\n",
    "dft1 = df_reviews[['tconst', 'start_year']].drop_duplicates() \\\n",
    "    ['start_year'].value_counts().sort_index()\n",
    "dft1 = dft1.reindex(index=np.arange(dft1.index.min(), max(dft1.index.max(), 2021))).fillna(0)\n",
    "dft1.plot(kind='bar', ax=ax)\n",
    "ax.set_title('Número de películas a lo largo de los años')\n",
    "\n",
    "ax = axs[1]\n",
    "\n",
    "dft2 = df_reviews.groupby(['start_year', 'pos'])['pos'].count().unstack()\n",
    "dft2 = dft2.reindex(index=np.arange(dft2.index.min(), max(dft2.index.max(), 2021))).fillna(0)\n",
    "\n",
    "dft2.plot(kind='bar', stacked=True, label='#reviews (neg, pos)', ax=ax)\n",
    "\n",
    "dft2 = df_reviews['start_year'].value_counts().sort_index()\n",
    "dft2 = dft2.reindex(index=np.arange(dft2.index.min(), max(dft2.index.max(), 2021))).fillna(0)\n",
    "dft3 = (dft2/dft1).fillna(0)\n",
    "axt = ax.twinx()\n",
    "dft3.reset_index(drop=True).rolling(5).mean().plot(color='orange', label='reviews per movie (avg over 5 years)', ax=axt)\n",
    "\n",
    "lines, labels = axt.get_legend_handles_labels()\n",
    "ax.legend(lines, labels, loc='upper left')\n",
    "\n",
    "ax.set_title('Número de reseñas a lo largo de los años')\n",
    "\n",
    "fig.tight_layout()"
   ]
  },
  {
   "cell_type": "markdown",
   "metadata": {},
   "source": [
    "Veamos la distribución del número de reseñas por película con el conteo exacto y KDE (solo para saber cómo puede diferir del conteo exacto)"
   ]
  },
  {
   "cell_type": "code",
   "execution_count": 7,
   "metadata": {},
   "outputs": [
    {
     "data": {
      "image/png": "[encoded data removed]",
      "text/plain": [
       "<Figure size 1600x500 with 2 Axes>"
      ]
     },
     "metadata": {},
     "output_type": "display_data"
    }
   ],
   "source": [
    "fig, axs = plt.subplots(1, 2, figsize=(16, 5))\n",
    "\n",
    "ax = axs[0]\n",
    "dft = df_reviews.groupby('tconst')['review'].count() \\\n",
    "    .value_counts() \\\n",
    "    .sort_index()\n",
    "dft.plot.bar(ax=ax)\n",
    "ax.set_title('Gráfico de barras de #Reseñas por película')\n",
    "\n",
    "ax = axs[1]\n",
    "dft = df_reviews.groupby('tconst')['review'].count()\n",
    "sns.kdeplot(dft, ax=ax)\n",
    "ax.set_title('Gráfico KDE de #Reseñas por película')\n",
    "\n",
    "fig.tight_layout()"
   ]
  },
  {
   "cell_type": "code",
   "execution_count": 8,
   "metadata": {},
   "outputs": [
    {
     "data": {
      "text/plain": [
       "0    23715\n",
       "1    23616\n",
       "Name: pos, dtype: int64"
      ]
     },
     "execution_count": 8,
     "metadata": {},
     "output_type": "execute_result"
    }
   ],
   "source": [
    "df_reviews['pos'].value_counts()"
   ]
  },
  {
   "cell_type": "code",
   "execution_count": 9,
   "metadata": {},
   "outputs": [
    {
     "data": {
      "image/png": "[encoded data removed]",
      "text/plain": [
       "<Figure size 1200x400 with 2 Axes>"
      ]
     },
     "metadata": {},
     "output_type": "display_data"
    }
   ],
   "source": [
    "fig, axs = plt.subplots(1, 2, figsize=(12, 4))\n",
    "\n",
    "ax = axs[0]\n",
    "dft = df_reviews.query('ds_part == \"train\"')['rating'].value_counts().sort_index()\n",
    "dft = dft.reindex(index=np.arange(min(dft.index.min(), 1), max(dft.index.max(), 11))).fillna(0)\n",
    "dft.plot.bar(ax=ax)\n",
    "ax.set_ylim([0, 5000])\n",
    "ax.set_title('El conjunto de entrenamiento: distribución de puntuaciones')\n",
    "\n",
    "ax = axs[1]\n",
    "dft = df_reviews.query('ds_part == \"test\"')['rating'].value_counts().sort_index()\n",
    "dft = dft.reindex(index=np.arange(min(dft.index.min(), 1), max(dft.index.max(), 11))).fillna(0)\n",
    "dft.plot.bar(ax=ax)\n",
    "ax.set_ylim([0, 5000])\n",
    "ax.set_title('El conjunto de prueba: distribución de puntuaciones')\n",
    "\n",
    "fig.tight_layout()"
   ]
  },
  {
   "cell_type": "markdown",
   "metadata": {},
   "source": [
    "Distribución de reseñas negativas y positivas a lo largo de los años para dos partes del conjunto de datos"
   ]
  },
  {
   "cell_type": "code",
   "execution_count": 10,
   "metadata": {},
   "outputs": [
    {
     "name": "stderr",
     "output_type": "stream",
     "text": [
      "/opt/conda/envs/python3/lib/python3.9/site-packages/seaborn/distributions.py:1666: UserWarning: Support for alternate kernels has been removed. Using Gaussian kernel.\n",
      "  warnings.warn(msg, UserWarning)\n",
      "/opt/conda/envs/python3/lib/python3.9/site-packages/seaborn/distributions.py:1666: UserWarning: Support for alternate kernels has been removed. Using Gaussian kernel.\n",
      "  warnings.warn(msg, UserWarning)\n",
      "/opt/conda/envs/python3/lib/python3.9/site-packages/seaborn/distributions.py:1666: UserWarning: Support for alternate kernels has been removed. Using Gaussian kernel.\n",
      "  warnings.warn(msg, UserWarning)\n",
      "/opt/conda/envs/python3/lib/python3.9/site-packages/seaborn/distributions.py:1666: UserWarning: Support for alternate kernels has been removed. Using Gaussian kernel.\n",
      "  warnings.warn(msg, UserWarning)\n"
     ]
    },
    {
     "data": {
      "image/png": "[encoded data removed]",
      "text/plain": [
       "<Figure size 1600x800 with 4 Axes>"
      ]
     },
     "metadata": {},
     "output_type": "display_data"
    }
   ],
   "source": [
    "fig, axs = plt.subplots(2, 2, figsize=(16, 8), gridspec_kw=dict(width_ratios=(2, 1), height_ratios=(1, 1)))\n",
    "\n",
    "ax = axs[0][0]\n",
    "\n",
    "dft = df_reviews.query('ds_part == \"train\"').groupby(['start_year', 'pos'])['pos'].count().unstack()\n",
    "dft.index = dft.index.astype('int')\n",
    "dft = dft.reindex(index=np.arange(dft.index.min(), max(dft.index.max(), 2020))).fillna(0)\n",
    "dft.plot(kind='bar', stacked=True, ax=ax)\n",
    "ax.set_title('El conjunto de entrenamiento: número de reseñas de diferentes polaridades por año')\n",
    "\n",
    "ax = axs[0][1]\n",
    "\n",
    "dft = df_reviews.query('ds_part == \"train\"').groupby(['tconst', 'pos'])['pos'].count().unstack()\n",
    "sns.kdeplot(dft[0], color='blue', label='negative', kernel='epa', ax=ax)\n",
    "sns.kdeplot(dft[1], color='green', label='positive', kernel='epa', ax=ax)\n",
    "ax.legend()\n",
    "ax.set_title('El conjunto de entrenamiento: distribución de diferentes polaridades por película')\n",
    "\n",
    "ax = axs[1][0]\n",
    "\n",
    "dft = df_reviews.query('ds_part == \"test\"').groupby(['start_year', 'pos'])['pos'].count().unstack()\n",
    "dft.index = dft.index.astype('int')\n",
    "dft = dft.reindex(index=np.arange(dft.index.min(), max(dft.index.max(), 2020))).fillna(0)\n",
    "dft.plot(kind='bar', stacked=True, ax=ax)\n",
    "ax.set_title('El conjunto de prueba: número de reseñas de diferentes polaridades por año')\n",
    "\n",
    "ax = axs[1][1]\n",
    "\n",
    "dft = df_reviews.query('ds_part == \"test\"').groupby(['tconst', 'pos'])['pos'].count().unstack()\n",
    "sns.kdeplot(dft[0], color='blue', label='negative', kernel='epa', ax=ax)\n",
    "sns.kdeplot(dft[1], color='green', label='positive', kernel='epa', ax=ax)\n",
    "ax.legend()\n",
    "ax.set_title('El conjunto de prueba: distribución de diferentes polaridades por película')\n",
    "\n",
    "fig.tight_layout()"
   ]
  },
  {
   "cell_type": "markdown",
   "metadata": {},
   "source": [
    "## Procedimiento de evaluación"
   ]
  },
  {
   "cell_type": "markdown",
   "metadata": {},
   "source": [
    "Composición de una rutina de evaluación que se pueda usar para todos los modelos en este proyecto"
   ]
  },
  {
   "cell_type": "code",
   "execution_count": 8,
   "metadata": {},
   "outputs": [],
   "source": [
    "import sklearn.metrics as metrics\n",
    "def evaluate_model(model, train_features, train_target, test_features, test_target):\n",
    "    \n",
    "    eval_stats = {}\n",
    "    \n",
    "    fig, axs = plt.subplots(1, 3, figsize=(20, 6)) \n",
    "    \n",
    "    for type, features, target in (('train', train_features, train_target), ('test', test_features, test_target)):\n",
    "        \n",
    "        eval_stats[type] = {}\n",
    "    \n",
    "        pred_target = model.predict(features)\n",
    "        pred_proba = model.predict_proba(features)[:, 1]\n",
    "        \n",
    "        # F1\n",
    "        f1_thresholds = np.arange(0, 1.01, 0.05)\n",
    "        f1_scores = [metrics.f1_score(target, pred_proba>=threshold) for threshold in f1_thresholds]\n",
    "        \n",
    "        # ROC\n",
    "        fpr, tpr, roc_thresholds = metrics.roc_curve(target, pred_proba)\n",
    "        roc_auc = metrics.roc_auc_score(target, pred_proba)    \n",
    "        eval_stats[type]['ROC AUC'] = roc_auc\n",
    "\n",
    "        # PRC\n",
    "        precision, recall, pr_thresholds = metrics.precision_recall_curve(target, pred_proba)\n",
    "        aps = metrics.average_precision_score(target, pred_proba)\n",
    "        eval_stats[type]['APS'] = aps\n",
    "        \n",
    "        if type == 'train':\n",
    "            color = 'blue'\n",
    "        else:\n",
    "            color = 'green'\n",
    "\n",
    "        # Valor F1\n",
    "        ax = axs[0]\n",
    "        max_f1_score_idx = np.argmax(f1_scores)\n",
    "        ax.plot(f1_thresholds, f1_scores, color=color, label=f'{type}, max={f1_scores[max_f1_score_idx]:.2f} @ {f1_thresholds[max_f1_score_idx]:.2f}')\n",
    "        # establecer cruces para algunos umbrales        \n",
    "        for threshold in (0.2, 0.4, 0.5, 0.6, 0.8):\n",
    "            closest_value_idx = np.argmin(np.abs(f1_thresholds-threshold))\n",
    "            marker_color = 'orange' if threshold != 0.5 else 'red'\n",
    "            ax.plot(f1_thresholds[closest_value_idx], f1_scores[closest_value_idx], color=marker_color, marker='X', markersize=7)\n",
    "        ax.set_xlim([-0.02, 1.02])    \n",
    "        ax.set_ylim([-0.02, 1.02])\n",
    "        ax.set_xlabel('threshold')\n",
    "        ax.set_ylabel('F1')\n",
    "        ax.legend(loc='lower center')\n",
    "        ax.set_title(f'Valor F1') \n",
    "\n",
    "        # ROC\n",
    "        ax = axs[1]    \n",
    "        ax.plot(fpr, tpr, color=color, label=f'{type}, ROC AUC={roc_auc:.2f}')\n",
    "        # establecer cruces para algunos umbrales        \n",
    "        for threshold in (0.2, 0.4, 0.5, 0.6, 0.8):\n",
    "            closest_value_idx = np.argmin(np.abs(roc_thresholds-threshold))\n",
    "            marker_color = 'orange' if threshold != 0.5 else 'red'            \n",
    "            ax.plot(fpr[closest_value_idx], tpr[closest_value_idx], color=marker_color, marker='X', markersize=7)\n",
    "        ax.plot([0, 1], [0, 1], color='grey', linestyle='--')\n",
    "        ax.set_xlim([-0.02, 1.02])    \n",
    "        ax.set_ylim([-0.02, 1.02])\n",
    "        ax.set_xlabel('FPR')\n",
    "        ax.set_ylabel('TPR')\n",
    "        ax.legend(loc='lower center')        \n",
    "        ax.set_title(f'Curva ROC')\n",
    "        \n",
    "        # PRC\n",
    "        ax = axs[2]\n",
    "        ax.plot(recall, precision, color=color, label=f'{type}, AP={aps:.2f}')\n",
    "        # establecer cruces para algunos umbrales        \n",
    "        for threshold in (0.2, 0.4, 0.5, 0.6, 0.8):\n",
    "            closest_value_idx = np.argmin(np.abs(pr_thresholds-threshold))\n",
    "            marker_color = 'orange' if threshold != 0.5 else 'red'\n",
    "            ax.plot(recall[closest_value_idx], precision[closest_value_idx], color=marker_color, marker='X', markersize=7)\n",
    "        ax.set_xlim([-0.02, 1.02])    \n",
    "        ax.set_ylim([-0.02, 1.02])\n",
    "        ax.set_xlabel('recall')\n",
    "        ax.set_ylabel('precision')\n",
    "        ax.legend(loc='lower center')\n",
    "        ax.set_title(f'PRC')        \n",
    "\n",
    "        eval_stats[type]['Exactitud'] = metrics.accuracy_score(target, pred_target)\n",
    "        eval_stats[type]['F1'] = metrics.f1_score(target, pred_target)\n",
    "    \n",
    "    df_eval_stats = pd.DataFrame(eval_stats)\n",
    "    df_eval_stats = df_eval_stats.round(2)\n",
    "    df_eval_stats = df_eval_stats.reindex(index=('Exactitud', 'F1', 'APS', 'ROC AUC'))\n",
    "    \n",
    "    print(df_eval_stats)\n",
    "    \n",
    "    return"
   ]
  },
  {
   "cell_type": "markdown",
   "metadata": {},
   "source": [
    "## Normalización"
   ]
  },
  {
   "cell_type": "markdown",
   "metadata": {},
   "source": [
    "Suponemos que todos los modelos a continuación aceptan textos en minúsculas y sin dígitos, signos de puntuación, etc."
   ]
  },
  {
   "cell_type": "code",
   "execution_count": 9,
   "metadata": {},
   "outputs": [
    {
     "data": {
      "text/plain": [
       "0        the pakage implies that warren beatty and gold...\n",
       "1        how the hell did they get this made   presenti...\n",
       "2        there is no real story the film seems more lik...\n",
       "3        um      a serious film about troubled teens in...\n",
       "4        i m totally agree with garryjohal from singapo...\n",
       "                               ...                        \n",
       "47326    this is another of my favorite columbos  it sp...\n",
       "47327    talk about being boring  i got this expecting ...\n",
       "47328    i never thought i d say this about a biopic  b...\n",
       "47329    spirit and chaos is an artistic biopic of miya...\n",
       "47330    i ll make this brief  this was a joy to watch ...\n",
       "Name: review_norm, Length: 47331, dtype: object"
      ]
     },
     "execution_count": 9,
     "metadata": {},
     "output_type": "execute_result"
    }
   ],
   "source": [
    "minusculas = df_reviews[\"review\"].str.lower()\n",
    "df_reviews[\"review_norm\"] = minusculas.str.replace(\"[^a-z]\", \" \")\n",
    "df_reviews[\"review_norm\"]\n"
   ]
  },
  {
   "cell_type": "markdown",
   "metadata": {},
   "source": [
    "## División entrenamiento / prueba"
   ]
  },
  {
   "cell_type": "markdown",
   "metadata": {},
   "source": [
    "Por fortuna, todo el conjunto de datos ya está dividido en partes de entrenamiento/prueba; 'ds_part' es el indicador correspondiente."
   ]
  },
  {
   "cell_type": "code",
   "execution_count": 12,
   "metadata": {},
   "outputs": [
    {
     "name": "stdout",
     "output_type": "stream",
     "text": [
      "(23796, 18)\n",
      "(23535, 18)\n"
     ]
    }
   ],
   "source": [
    "df_reviews_train = df_reviews.query('ds_part == \"train\"').copy()\n",
    "df_reviews_test = df_reviews.query('ds_part == \"test\"').copy()\n",
    "\n",
    "train_target = df_reviews_train['pos']\n",
    "test_target = df_reviews_test['pos']\n",
    "\n",
    "print(df_reviews_train.shape)\n",
    "print(df_reviews_test.shape)"
   ]
  },
  {
   "cell_type": "markdown",
   "metadata": {},
   "source": [
    "## Trabajar con modelos"
   ]
  },
  {
   "cell_type": "markdown",
   "metadata": {},
   "source": [
    "### Modelo 0 - Constante"
   ]
  },
  {
   "cell_type": "code",
   "execution_count": 10,
   "metadata": {},
   "outputs": [],
   "source": [
    "from sklearn.dummy import DummyClassifier"
   ]
  },
  {
   "cell_type": "code",
   "execution_count": 13,
   "metadata": {},
   "outputs": [
    {
     "name": "stdout",
     "output_type": "stream",
     "text": [
      "           train  test\n",
      "Exactitud    0.5   0.5\n",
      "F1           0.0   0.0\n",
      "APS          0.5   0.5\n",
      "ROC AUC      0.5   0.5\n"
     ]
    },
    {
     "data": {
      "image/png": "[encoded data removed]",
      "text/plain": [
       "<Figure size 2000x600 with 3 Axes>"
      ]
     },
     "metadata": {},
     "output_type": "display_data"
    }
   ],
   "source": [
    "model = DummyClassifier(strategy=\"most_frequent\")\n",
    "model.fit(df_reviews_train['review_norm'], train_target)\n",
    "evaluate_model(model, df_reviews_train, train_target, df_reviews_test, test_target)"
   ]
  },
  {
   "cell_type": "markdown",
   "metadata": {},
   "source": [
    "Recordemos que el modelo Dummy no aprende de los datos entregados, de hecho los ignora completamente. Sin embargo es una buena base para comparar con modelos futuros y hacer de referencia."
   ]
  },
  {
   "cell_type": "markdown",
   "metadata": {},
   "source": [
    "### Modelo 1 - NLTK, TF-IDF y LR"
   ]
  },
  {
   "cell_type": "markdown",
   "metadata": {},
   "source": [
    "TF-IDF"
   ]
  },
  {
   "cell_type": "code",
   "execution_count": 14,
   "metadata": {},
   "outputs": [],
   "source": [
    "import nltk\n",
    "\n",
    "from sklearn.feature_extraction.text import TfidfVectorizer\n",
    "from sklearn.linear_model import LogisticRegression\n",
    "\n",
    "from nltk.corpus import stopwords"
   ]
  },
  {
   "cell_type": "code",
   "execution_count": 15,
   "metadata": {},
   "outputs": [],
   "source": [
    "stop_words = set(stopwords.words('english'))\n",
    "count_tf_idf = TfidfVectorizer(stop_words = stop_words)\n",
    "tf_idf = count_tf_idf.fit_transform(df_reviews_train['review_norm'])"
   ]
  },
  {
   "cell_type": "code",
   "execution_count": 16,
   "metadata": {},
   "outputs": [
    {
     "data": {
      "text/plain": [
       "LogisticRegression()"
      ]
     },
     "execution_count": 16,
     "metadata": {},
     "output_type": "execute_result"
    }
   ],
   "source": [
    "train_features_1 = tf_idf\n",
    "test_features_1 = count_tf_idf.transform(df_reviews_test['review_norm'])\n",
    "\n",
    "model_1 = LogisticRegression() # inicializar el modelo de regresión logística\n",
    "model_1.fit(train_features_1, train_target)\n"
   ]
  },
  {
   "cell_type": "code",
   "execution_count": 17,
   "metadata": {
    "scrolled": false
   },
   "outputs": [
    {
     "name": "stdout",
     "output_type": "stream",
     "text": [
      "           train  test\n",
      "Exactitud   0.94  0.88\n",
      "F1          0.94  0.88\n",
      "APS         0.98  0.95\n",
      "ROC AUC     0.98  0.95\n"
     ]
    },
    {
     "data": {
      "image/png": "[encoded data removed]",
      "text/plain": [
       "<Figure size 2000x600 with 3 Axes>"
      ]
     },
     "metadata": {},
     "output_type": "display_data"
    }
   ],
   "source": [
    "evaluate_model(model_1, train_features_1, train_target, test_features_1, test_target)"
   ]
  },
  {
   "cell_type": "markdown",
   "metadata": {},
   "source": [
    "Para nuestro modelo 1 con nltk tenemos un F1 de 0.88 lo cual está dentro del umbral esperado en el conjunto de test."
   ]
  },
  {
   "cell_type": "markdown",
   "metadata": {},
   "source": [
    "### Modelo 3 - spaCy, TF-IDF y LR"
   ]
  },
  {
   "cell_type": "code",
   "execution_count": 18,
   "metadata": {},
   "outputs": [],
   "source": [
    "import spacy\n",
    "\n",
    "nlp = spacy.load('en_core_web_sm', disable=['parser', 'ner'])"
   ]
  },
  {
   "cell_type": "code",
   "execution_count": 19,
   "metadata": {},
   "outputs": [
    {
     "name": "stdout",
     "output_type": "stream",
     "text": [
      "CPU times: user 4min 5s, sys: 85 ms, total: 4min 5s\n",
      "Wall time: 4min 5s\n"
     ]
    }
   ],
   "source": [
    "%%time\n",
    "def text_preprocessing_3(text):\n",
    "    \n",
    "    doc = nlp(text)\n",
    "    tokens = [token.lemma_ for token in doc if not token.is_stop]\n",
    "    #tokens = [token.lemma_ for token in doc]\n",
    "    \n",
    "    return ' '.join(tokens)\n",
    "\n",
    "texto_spacy_train = [text_preprocessing_3(text) for text in df_reviews_train['review_norm']]\n"
   ]
  },
  {
   "cell_type": "code",
   "execution_count": null,
   "metadata": {},
   "outputs": [],
   "source": [
    "texto_spacy_test = [text_preprocessing_3(text) for text in df_reviews_test['review_norm']]\n"
   ]
  },
  {
   "cell_type": "code",
   "execution_count": null,
   "metadata": {},
   "outputs": [],
   "source": [
    "count_tf_idf2 = TfidfVectorizer()\n",
    "features_train2 = count_tf_idf2.fit_transform(texto_spacy_train)\n",
    "features_test2 = count_tf_idf2.transform(texto_spacy_test)"
   ]
  },
  {
   "cell_type": "code",
   "execution_count": null,
   "metadata": {},
   "outputs": [],
   "source": [
    "df_reviews_train['review_norm']"
   ]
  },
  {
   "cell_type": "code",
   "execution_count": null,
   "metadata": {
    "scrolled": false
   },
   "outputs": [],
   "source": [
    "model_3 = LogisticRegression() # inicializar el modelo de regresión logística\n",
    "model_3.fit(features_train2, train_target)\n",
    "\n",
    "evaluate_model(model_3, features_train2, train_target, features_test2, test_target)\n"
   ]
  },
  {
   "cell_type": "markdown",
   "metadata": {},
   "source": [
    "Para nuestro modelo con Spacy poseemos un F1 de 0.87, lo cual aun está por sobre el umbral."
   ]
  },
  {
   "cell_type": "markdown",
   "metadata": {},
   "source": [
    "### Modelo 4 - spaCy, TF-IDF y LGBMClassifier"
   ]
  },
  {
   "cell_type": "code",
   "execution_count": null,
   "metadata": {},
   "outputs": [],
   "source": [
    "import lightgbm as lgb"
   ]
  },
  {
   "cell_type": "markdown",
   "metadata": {},
   "source": [
    "Del codigo pasado ya tenemos implementada la lematizacion y tokenizacion con spaCy, así que reutilizamos aquello solamente añadiendo el modelo."
   ]
  },
  {
   "cell_type": "code",
   "execution_count": null,
   "metadata": {},
   "outputs": [],
   "source": [
    "model_4 = lgb.LGBMClassifier(boosting_type='gbdt', num_leaves=31, max_depth=-1,learning_rate=0.1,n_estimators=100)\n",
    "model_4.fit(features_train2, train_target)"
   ]
  },
  {
   "cell_type": "code",
   "execution_count": null,
   "metadata": {},
   "outputs": [],
   "source": [
    "evaluate_model(model_4, features_train2, train_target, features_test2, test_target)\n"
   ]
  },
  {
   "cell_type": "markdown",
   "metadata": {},
   "source": [
    "Para el modelo con Spacy y LGBMClassifier tenemos un F1 de 0.86, lo cual está aun por sobre el umbral, pero es más lento que los anteriores."
   ]
  },
  {
   "cell_type": "code",
   "execution_count": null,
   "metadata": {},
   "outputs": [],
   "source": [
    "test_features_9 = BERT_text_to_embeddings(df_reviews_test['review_norm'])"
   ]
  },
  {
   "cell_type": "code",
   "execution_count": null,
   "metadata": {
    "scrolled": false
   },
   "outputs": [],
   "source": [
    "print(df_reviews_train['review_norm'].shape)\n",
    "print(train_features_9.shape)\n",
    "print(train_target.shape)\n",
    "print()\n",
    "print(test_features_9.shape)\n",
    "print(test_target.shape)"
   ]
  },
  {
   "cell_type": "code",
   "execution_count": null,
   "metadata": {},
   "outputs": [],
   "source": [
    "#\n",
    "#print(\"¿CUDA está disponible?\", torch.cuda.is_available())\n",
    "#print(\"Cantidad de GPUs disponibles:\", torch.cuda.device_count())\n",
    "#if torch.cuda.is_available():\n",
    "#    print(\"Nombre de la GPU:\", torch.cuda.get_device_name(0))\n",
    "#else:\n",
    "#    print(\"No hay GPU compatible con CUDA.\")"
   ]
  },
  {
   "cell_type": "code",
   "execution_count": null,
   "metadata": {},
   "outputs": [],
   "source": [
    "model_9 = LogisticRegression()\n",
    "model_9.fit(train_features_9, train_target)\n",
    "\n",
    "evaluate_model(model_9, train_features_9, train_target, test_features_9, test_target)\n"
   ]
  },
  {
   "cell_type": "markdown",
   "metadata": {},
   "source": [
    "## Mis reseñas"
   ]
  },
  {
   "cell_type": "code",
   "execution_count": null,
   "metadata": {},
   "outputs": [],
   "source": [
    "\n",
    "my_reviews = pd.DataFrame([\n",
    "    'I did not simply like it, not my kind of movie.',\n",
    "    'Well, I was bored and felt asleep in the middle of the movie.',\n",
    "    'I was really fascinated with the movie',    \n",
    "    'Even the actors looked really old and disinterested, and they got paid to be in the movie. What a soulless cash grab.',\n",
    "    'I didn\\'t expect the reboot to be so good! Writers really cared about the source material',\n",
    "    'The movie had its upsides and downsides, but I feel like overall it\\'s a decent flick. I could see myself going to see it again.',\n",
    "    'What a rotten attempt at a comedy. Not a single joke lands, everyone acts annoying and loud, even kids won\\'t like this!',\n",
    "    'Launching on Netflix was a brave move & I really appreciate being able to binge on episode after episode, of this exciting intelligent new drama.'\n",
    "], columns=['review'])\n",
    "\n",
    "\"\"\"\n",
    "my_reviews = pd.DataFrame([\n",
    "    'Simplemente no me gustó, no es mi tipo de película.',\n",
    "    'Bueno, estaba aburrido y me quedé dormido a media película.',\n",
    "    'Estaba realmente fascinada con la película',    \n",
    "    'Hasta los actores parecían muy viejos y desinteresados, y les pagaron por estar en la película. Qué robo tan desalmado.',\n",
    "    '¡No esperaba que el relanzamiento fuera tan bueno! Los escritores realmente se preocuparon por el material original',\n",
    "    'La película tuvo sus altibajos, pero siento que, en general, es una película decente. Sí la volvería a ver',\n",
    "    'Qué pésimo intento de comedia. Ni una sola broma tiene sentido, todos actúan de forma irritante y ruidosa, ¡ni siquiera a los niños les gustará esto!',\n",
    "    'Fue muy valiente el lanzamiento en Netflix y realmente aprecio poder seguir viendo episodio tras episodio de este nuevo drama tan emocionante e inteligente.'\n",
    "], columns=['review'])\n",
    "\"\"\"\n",
    "\n",
    "minusculas2 = my_reviews['review'].str.lower()\n",
    "my_reviews['review_norm'] = minusculas2.str.replace(\"[^a-z]\", \" \")\n",
    "\n",
    "\n",
    "my_reviews"
   ]
  },
  {
   "cell_type": "markdown",
   "metadata": {},
   "source": [
    "### Modelo 1"
   ]
  },
  {
   "cell_type": "code",
   "execution_count": null,
   "metadata": {},
   "outputs": [],
   "source": [
    "texts = my_reviews['review_norm']\n",
    "\n",
    "my_reviews_pred_prob = model_1.predict_proba(count_tf_idf.transform(texts))[:, 1]\n",
    "\n",
    "for i, review in enumerate(texts.str.slice(0, 100)):\n",
    "    print(f'{my_reviews_pred_prob[i]:.2f}:  {review}')"
   ]
  },
  {
   "cell_type": "markdown",
   "metadata": {},
   "source": [
    "### Modelo 3"
   ]
  },
  {
   "cell_type": "code",
   "execution_count": null,
   "metadata": {},
   "outputs": [],
   "source": [
    "texts = my_reviews['review_norm']\n",
    "\n",
    "my_reviews_pred_prob = model_3.predict_proba(count_tf_idf2.transform(texts.apply(lambda x: text_preprocessing_3(x))))[:, 1]\n",
    "\n",
    "for i, review in enumerate(texts.str.slice(0, 100)):\n",
    "    print(f'{my_reviews_pred_prob[i]:.2f}:  {review}')"
   ]
  },
  {
   "cell_type": "markdown",
   "metadata": {},
   "source": [
    "### Modelo 4"
   ]
  },
  {
   "cell_type": "code",
   "execution_count": null,
   "metadata": {},
   "outputs": [],
   "source": [
    "texts = my_reviews['review_norm']\n",
    "\n",
    "tfidf_vectorizer_4 = count_tf_idf2\n",
    "my_reviews_pred_prob = model_4.predict_proba(tfidf_vectorizer_4.transform(texts.apply(lambda x: text_preprocessing_3(x))))[:, 1]\n",
    "\n",
    "for i, review in enumerate(texts.str.slice(0, 100)):\n",
    "    print(f'{my_reviews_pred_prob[i]:.2f}:  {review}')"
   ]
  },
  {
   "cell_type": "markdown",
   "metadata": {},
   "source": [
    "## Conclusiones"
   ]
  },
  {
   "cell_type": "markdown",
   "metadata": {},
   "source": [
    "Considerando todos los modelos, logramos ver que sus métricas de F1 pasaban el umbral para cada uno de ellos. Sin embargo, viendo las evaluaciones con las nuevas reseñas vemos que tal se comporta con su nivel de predicción probabilistica. En este caso (con las limitantes que tuve al no poder ejecutar BERT de forma correcta), el modelo que mejor se comporta es el modelo 4 que comprende spaCy, TF-IDF y LGBMClassifier. \n",
    "\n",
    "Los otros modelos se comportaron bien en sus métricas, pero acá en su prueba final arrojaron valores bajos en promedio."
   ]
  }
 ],
 "metadata": {
  "ExecuteTimeLog": [
   {
    "duration": 2722,
    "start_time": "2024-12-04T19:33:37.671Z"
   },
   {
    "duration": 8,
    "start_time": "2024-12-04T19:33:41.485Z"
   },
   {
    "duration": 3,
    "start_time": "2024-12-04T19:33:43.720Z"
   },
   {
    "duration": 753,
    "start_time": "2024-12-04T19:33:46.968Z"
   },
   {
    "duration": 56,
    "start_time": "2024-12-04T19:34:01.164Z"
   },
   {
    "duration": 5,
    "start_time": "2024-12-04T19:34:49.935Z"
   },
   {
    "duration": 389,
    "start_time": "2024-12-04T19:34:52.864Z"
   },
   {
    "duration": 3890,
    "start_time": "2024-12-04T19:34:57.909Z"
   },
   {
    "duration": 182,
    "start_time": "2024-12-04T19:42:47.980Z"
   },
   {
    "duration": 20,
    "start_time": "2024-12-04T19:43:23.548Z"
   },
   {
    "duration": 6,
    "start_time": "2024-12-04T19:52:38.467Z"
   },
   {
    "duration": 8,
    "start_time": "2024-12-04T19:52:40.038Z"
   },
   {
    "duration": 2,
    "start_time": "2024-12-04T19:52:41.941Z"
   },
   {
    "duration": 54,
    "start_time": "2024-12-04T19:52:44.225Z"
   },
   {
    "duration": 438,
    "start_time": "2024-12-04T19:53:20.470Z"
   },
   {
    "duration": 21,
    "start_time": "2024-12-04T19:53:27.052Z"
   },
   {
    "duration": 179,
    "start_time": "2024-12-04T19:53:45.873Z"
   },
   {
    "duration": 225,
    "start_time": "2024-12-04T19:55:22.563Z"
   },
   {
    "duration": 181,
    "start_time": "2024-12-04T19:55:35.075Z"
   },
   {
    "duration": 180,
    "start_time": "2024-12-04T19:55:51.358Z"
   },
   {
    "duration": 197,
    "start_time": "2024-12-04T19:57:08.984Z"
   },
   {
    "duration": 168,
    "start_time": "2024-12-04T19:57:22.337Z"
   },
   {
    "duration": 205,
    "start_time": "2024-12-04T19:57:27.919Z"
   },
   {
    "duration": 182,
    "start_time": "2024-12-04T19:57:57.810Z"
   },
   {
    "duration": 6,
    "start_time": "2024-12-04T19:58:01.717Z"
   },
   {
    "duration": 170,
    "start_time": "2024-12-04T19:58:03.768Z"
   },
   {
    "duration": 151,
    "start_time": "2024-12-04T19:58:16.853Z"
   },
   {
    "duration": 170,
    "start_time": "2024-12-04T19:58:20.814Z"
   },
   {
    "duration": 852,
    "start_time": "2024-12-04T20:01:58.515Z"
   },
   {
    "duration": 794,
    "start_time": "2024-12-04T20:02:16.746Z"
   },
   {
    "duration": 1074,
    "start_time": "2024-12-04T20:02:24.399Z"
   },
   {
    "duration": 843,
    "start_time": "2024-12-04T20:05:04.619Z"
   },
   {
    "duration": 1503,
    "start_time": "2024-12-04T20:05:40.513Z"
   },
   {
    "duration": 1450,
    "start_time": "2024-12-04T20:05:49.513Z"
   },
   {
    "duration": 1406,
    "start_time": "2024-12-04T20:06:12.329Z"
   },
   {
    "duration": 880,
    "start_time": "2024-12-04T20:06:40.025Z"
   },
   {
    "duration": 990,
    "start_time": "2024-12-04T20:06:49.002Z"
   },
   {
    "duration": 902,
    "start_time": "2024-12-04T20:06:54.548Z"
   },
   {
    "duration": 925,
    "start_time": "2024-12-04T20:07:08.278Z"
   },
   {
    "duration": 944,
    "start_time": "2024-12-04T20:07:15.233Z"
   },
   {
    "duration": 1132,
    "start_time": "2024-12-04T20:07:23.695Z"
   },
   {
    "duration": 925,
    "start_time": "2024-12-04T20:09:31.231Z"
   },
   {
    "duration": 827,
    "start_time": "2024-12-04T20:09:57.585Z"
   },
   {
    "duration": 928,
    "start_time": "2024-12-04T20:10:25.449Z"
   },
   {
    "duration": 11,
    "start_time": "2024-12-04T20:10:26.379Z"
   },
   {
    "duration": 3,
    "start_time": "2024-12-04T20:10:26.392Z"
   },
   {
    "duration": 702,
    "start_time": "2024-12-04T20:10:26.399Z"
   },
   {
    "duration": 58,
    "start_time": "2024-12-04T20:10:27.103Z"
   },
   {
    "duration": 3064,
    "start_time": "2024-12-04T20:10:27.163Z"
   },
   {
    "duration": 723,
    "start_time": "2024-12-04T20:10:30.229Z"
   },
   {
    "duration": 6,
    "start_time": "2024-12-04T20:10:30.955Z"
   },
   {
    "duration": 429,
    "start_time": "2024-12-04T20:10:30.963Z"
   },
   {
    "duration": 3848,
    "start_time": "2024-12-04T20:10:31.395Z"
   },
   {
    "duration": 155,
    "start_time": "2024-12-04T20:10:35.245Z"
   },
   {
    "duration": 1110,
    "start_time": "2024-12-04T20:10:35.402Z"
   },
   {
    "duration": 0,
    "start_time": "2024-12-04T20:10:36.514Z"
   },
   {
    "duration": 0,
    "start_time": "2024-12-04T20:10:36.515Z"
   },
   {
    "duration": 0,
    "start_time": "2024-12-04T20:10:36.516Z"
   },
   {
    "duration": 0,
    "start_time": "2024-12-04T20:10:36.517Z"
   },
   {
    "duration": 0,
    "start_time": "2024-12-04T20:10:36.518Z"
   },
   {
    "duration": 0,
    "start_time": "2024-12-04T20:10:36.519Z"
   },
   {
    "duration": 0,
    "start_time": "2024-12-04T20:10:36.520Z"
   },
   {
    "duration": 0,
    "start_time": "2024-12-04T20:10:36.521Z"
   },
   {
    "duration": 0,
    "start_time": "2024-12-04T20:10:36.522Z"
   },
   {
    "duration": 0,
    "start_time": "2024-12-04T20:10:36.523Z"
   },
   {
    "duration": 0,
    "start_time": "2024-12-04T20:10:36.524Z"
   },
   {
    "duration": 0,
    "start_time": "2024-12-04T20:10:36.525Z"
   },
   {
    "duration": 0,
    "start_time": "2024-12-04T20:10:36.527Z"
   },
   {
    "duration": 0,
    "start_time": "2024-12-04T20:10:36.528Z"
   },
   {
    "duration": 0,
    "start_time": "2024-12-04T20:10:36.530Z"
   },
   {
    "duration": 0,
    "start_time": "2024-12-04T20:10:36.531Z"
   },
   {
    "duration": 0,
    "start_time": "2024-12-04T20:10:36.532Z"
   },
   {
    "duration": 0,
    "start_time": "2024-12-04T20:10:36.532Z"
   },
   {
    "duration": 916,
    "start_time": "2024-12-04T20:10:47.817Z"
   },
   {
    "duration": 4357,
    "start_time": "2024-12-04T20:12:51.332Z"
   },
   {
    "duration": 2626,
    "start_time": "2024-12-04T20:13:20.391Z"
   },
   {
    "duration": 911,
    "start_time": "2024-12-04T20:13:30.429Z"
   },
   {
    "duration": 7,
    "start_time": "2024-12-04T20:13:31.343Z"
   },
   {
    "duration": 3,
    "start_time": "2024-12-04T20:13:31.352Z"
   },
   {
    "duration": 669,
    "start_time": "2024-12-04T20:13:31.357Z"
   },
   {
    "duration": 45,
    "start_time": "2024-12-04T20:13:32.028Z"
   },
   {
    "duration": 3110,
    "start_time": "2024-12-04T20:13:32.089Z"
   },
   {
    "duration": 746,
    "start_time": "2024-12-04T20:13:35.201Z"
   },
   {
    "duration": 7,
    "start_time": "2024-12-04T20:13:35.949Z"
   },
   {
    "duration": 439,
    "start_time": "2024-12-04T20:13:35.958Z"
   },
   {
    "duration": 4005,
    "start_time": "2024-12-04T20:13:36.401Z"
   },
   {
    "duration": 158,
    "start_time": "2024-12-04T20:13:40.408Z"
   },
   {
    "duration": 2724,
    "start_time": "2024-12-04T20:13:40.568Z"
   },
   {
    "duration": 44,
    "start_time": "2024-12-04T20:13:43.295Z"
   },
   {
    "duration": 5,
    "start_time": "2024-12-04T20:13:43.342Z"
   },
   {
    "duration": 319,
    "start_time": "2024-12-04T20:13:43.349Z"
   },
   {
    "duration": 273,
    "start_time": "2024-12-04T20:13:43.670Z"
   },
   {
    "duration": 0,
    "start_time": "2024-12-04T20:13:43.945Z"
   },
   {
    "duration": 0,
    "start_time": "2024-12-04T20:13:43.946Z"
   },
   {
    "duration": 1,
    "start_time": "2024-12-04T20:13:43.947Z"
   },
   {
    "duration": 0,
    "start_time": "2024-12-04T20:13:43.949Z"
   },
   {
    "duration": 0,
    "start_time": "2024-12-04T20:13:43.950Z"
   },
   {
    "duration": 0,
    "start_time": "2024-12-04T20:13:43.952Z"
   },
   {
    "duration": 0,
    "start_time": "2024-12-04T20:13:43.953Z"
   },
   {
    "duration": 0,
    "start_time": "2024-12-04T20:13:43.954Z"
   },
   {
    "duration": 0,
    "start_time": "2024-12-04T20:13:43.955Z"
   },
   {
    "duration": 0,
    "start_time": "2024-12-04T20:13:43.957Z"
   },
   {
    "duration": 0,
    "start_time": "2024-12-04T20:13:43.958Z"
   },
   {
    "duration": 0,
    "start_time": "2024-12-04T20:13:43.959Z"
   },
   {
    "duration": 0,
    "start_time": "2024-12-04T20:13:43.961Z"
   },
   {
    "duration": 0,
    "start_time": "2024-12-04T20:13:43.962Z"
   },
   {
    "duration": 2728,
    "start_time": "2024-12-04T20:14:06.205Z"
   },
   {
    "duration": 1928,
    "start_time": "2024-12-04T20:14:51.594Z"
   },
   {
    "duration": 830,
    "start_time": "2024-12-04T20:15:06.796Z"
   },
   {
    "duration": 6,
    "start_time": "2024-12-04T20:15:07.628Z"
   },
   {
    "duration": 3,
    "start_time": "2024-12-04T20:15:07.636Z"
   },
   {
    "duration": 637,
    "start_time": "2024-12-04T20:15:07.640Z"
   },
   {
    "duration": 48,
    "start_time": "2024-12-04T20:15:08.280Z"
   },
   {
    "duration": 2809,
    "start_time": "2024-12-04T20:15:08.330Z"
   },
   {
    "duration": 680,
    "start_time": "2024-12-04T20:15:11.141Z"
   },
   {
    "duration": 5,
    "start_time": "2024-12-04T20:15:11.823Z"
   },
   {
    "duration": 392,
    "start_time": "2024-12-04T20:15:11.830Z"
   },
   {
    "duration": 3741,
    "start_time": "2024-12-04T20:15:12.223Z"
   },
   {
    "duration": 174,
    "start_time": "2024-12-04T20:15:15.967Z"
   },
   {
    "duration": 1955,
    "start_time": "2024-12-04T20:15:16.143Z"
   },
   {
    "duration": 39,
    "start_time": "2024-12-04T20:15:18.100Z"
   },
   {
    "duration": 5,
    "start_time": "2024-12-04T20:15:18.145Z"
   },
   {
    "duration": 284,
    "start_time": "2024-12-04T20:15:18.152Z"
   },
   {
    "duration": 291,
    "start_time": "2024-12-04T20:15:18.438Z"
   },
   {
    "duration": 0,
    "start_time": "2024-12-04T20:15:18.731Z"
   },
   {
    "duration": 0,
    "start_time": "2024-12-04T20:15:18.733Z"
   },
   {
    "duration": 0,
    "start_time": "2024-12-04T20:15:18.734Z"
   },
   {
    "duration": 0,
    "start_time": "2024-12-04T20:15:18.736Z"
   },
   {
    "duration": 0,
    "start_time": "2024-12-04T20:15:18.737Z"
   },
   {
    "duration": 0,
    "start_time": "2024-12-04T20:15:18.738Z"
   },
   {
    "duration": 0,
    "start_time": "2024-12-04T20:15:18.740Z"
   },
   {
    "duration": 0,
    "start_time": "2024-12-04T20:15:18.741Z"
   },
   {
    "duration": 0,
    "start_time": "2024-12-04T20:15:18.743Z"
   },
   {
    "duration": 0,
    "start_time": "2024-12-04T20:15:18.744Z"
   },
   {
    "duration": 0,
    "start_time": "2024-12-04T20:15:18.746Z"
   },
   {
    "duration": 0,
    "start_time": "2024-12-04T20:15:18.747Z"
   },
   {
    "duration": 0,
    "start_time": "2024-12-04T20:15:18.748Z"
   },
   {
    "duration": 0,
    "start_time": "2024-12-04T20:15:18.749Z"
   },
   {
    "duration": 2873,
    "start_time": "2024-12-04T20:17:56.236Z"
   },
   {
    "duration": 1902,
    "start_time": "2024-12-04T20:18:48.345Z"
   },
   {
    "duration": 869,
    "start_time": "2024-12-04T20:18:56.972Z"
   },
   {
    "duration": 8,
    "start_time": "2024-12-04T20:18:57.844Z"
   },
   {
    "duration": 3,
    "start_time": "2024-12-04T20:18:57.856Z"
   },
   {
    "duration": 669,
    "start_time": "2024-12-04T20:18:57.864Z"
   },
   {
    "duration": 55,
    "start_time": "2024-12-04T20:18:58.534Z"
   },
   {
    "duration": 2976,
    "start_time": "2024-12-04T20:18:58.591Z"
   },
   {
    "duration": 682,
    "start_time": "2024-12-04T20:19:01.569Z"
   },
   {
    "duration": 5,
    "start_time": "2024-12-04T20:19:02.253Z"
   },
   {
    "duration": 447,
    "start_time": "2024-12-04T20:19:02.259Z"
   },
   {
    "duration": 3920,
    "start_time": "2024-12-04T20:19:02.710Z"
   },
   {
    "duration": 147,
    "start_time": "2024-12-04T20:19:06.632Z"
   },
   {
    "duration": 1868,
    "start_time": "2024-12-04T20:19:06.780Z"
   },
   {
    "duration": 40,
    "start_time": "2024-12-04T20:19:08.650Z"
   },
   {
    "duration": 4,
    "start_time": "2024-12-04T20:19:08.692Z"
   },
   {
    "duration": 279,
    "start_time": "2024-12-04T20:19:08.698Z"
   },
   {
    "duration": 331,
    "start_time": "2024-12-04T20:19:08.986Z"
   },
   {
    "duration": 0,
    "start_time": "2024-12-04T20:19:09.319Z"
   },
   {
    "duration": 0,
    "start_time": "2024-12-04T20:19:09.320Z"
   },
   {
    "duration": 0,
    "start_time": "2024-12-04T20:19:09.321Z"
   },
   {
    "duration": 0,
    "start_time": "2024-12-04T20:19:09.322Z"
   },
   {
    "duration": 0,
    "start_time": "2024-12-04T20:19:09.323Z"
   },
   {
    "duration": 0,
    "start_time": "2024-12-04T20:19:09.325Z"
   },
   {
    "duration": 0,
    "start_time": "2024-12-04T20:19:09.326Z"
   },
   {
    "duration": 0,
    "start_time": "2024-12-04T20:19:09.327Z"
   },
   {
    "duration": 0,
    "start_time": "2024-12-04T20:19:09.328Z"
   },
   {
    "duration": 0,
    "start_time": "2024-12-04T20:19:09.329Z"
   },
   {
    "duration": 0,
    "start_time": "2024-12-04T20:19:09.330Z"
   },
   {
    "duration": 0,
    "start_time": "2024-12-04T20:19:09.331Z"
   },
   {
    "duration": 0,
    "start_time": "2024-12-04T20:19:09.332Z"
   },
   {
    "duration": 0,
    "start_time": "2024-12-04T20:19:09.333Z"
   },
   {
    "duration": 2694,
    "start_time": "2024-12-04T20:19:14.411Z"
   },
   {
    "duration": 878,
    "start_time": "2024-12-04T20:19:28.224Z"
   },
   {
    "duration": 8,
    "start_time": "2024-12-04T20:19:29.105Z"
   },
   {
    "duration": 3,
    "start_time": "2024-12-04T20:19:29.115Z"
   },
   {
    "duration": 661,
    "start_time": "2024-12-04T20:19:29.120Z"
   },
   {
    "duration": 47,
    "start_time": "2024-12-04T20:19:29.786Z"
   },
   {
    "duration": 3044,
    "start_time": "2024-12-04T20:19:29.835Z"
   },
   {
    "duration": 673,
    "start_time": "2024-12-04T20:19:32.881Z"
   },
   {
    "duration": 5,
    "start_time": "2024-12-04T20:19:33.557Z"
   },
   {
    "duration": 456,
    "start_time": "2024-12-04T20:19:33.565Z"
   },
   {
    "duration": 3840,
    "start_time": "2024-12-04T20:19:34.026Z"
   },
   {
    "duration": 172,
    "start_time": "2024-12-04T20:19:37.869Z"
   },
   {
    "duration": 1895,
    "start_time": "2024-12-04T20:19:38.043Z"
   },
   {
    "duration": 40,
    "start_time": "2024-12-04T20:19:39.940Z"
   },
   {
    "duration": 4,
    "start_time": "2024-12-04T20:19:39.989Z"
   },
   {
    "duration": 302,
    "start_time": "2024-12-04T20:19:39.995Z"
   },
   {
    "duration": 282,
    "start_time": "2024-12-04T20:19:40.299Z"
   },
   {
    "duration": 0,
    "start_time": "2024-12-04T20:19:40.586Z"
   },
   {
    "duration": 0,
    "start_time": "2024-12-04T20:19:40.588Z"
   },
   {
    "duration": 0,
    "start_time": "2024-12-04T20:19:40.589Z"
   },
   {
    "duration": 0,
    "start_time": "2024-12-04T20:19:40.590Z"
   },
   {
    "duration": 0,
    "start_time": "2024-12-04T20:19:40.591Z"
   },
   {
    "duration": 0,
    "start_time": "2024-12-04T20:19:40.594Z"
   },
   {
    "duration": 0,
    "start_time": "2024-12-04T20:19:40.595Z"
   },
   {
    "duration": 0,
    "start_time": "2024-12-04T20:19:40.597Z"
   },
   {
    "duration": 0,
    "start_time": "2024-12-04T20:19:40.598Z"
   },
   {
    "duration": 0,
    "start_time": "2024-12-04T20:19:40.599Z"
   },
   {
    "duration": 0,
    "start_time": "2024-12-04T20:19:40.601Z"
   },
   {
    "duration": 0,
    "start_time": "2024-12-04T20:19:40.606Z"
   },
   {
    "duration": 0,
    "start_time": "2024-12-04T20:19:40.607Z"
   },
   {
    "duration": 0,
    "start_time": "2024-12-04T20:19:40.609Z"
   },
   {
    "duration": 32,
    "start_time": "2024-12-04T20:20:09.187Z"
   },
   {
    "duration": 136,
    "start_time": "2024-12-04T20:43:15.651Z"
   },
   {
    "duration": 750,
    "start_time": "2024-12-04T20:43:38.144Z"
   },
   {
    "duration": 162,
    "start_time": "2024-12-09T20:36:51.899Z"
   },
   {
    "duration": 2663,
    "start_time": "2024-12-09T20:37:00.307Z"
   },
   {
    "duration": 7,
    "start_time": "2024-12-09T20:37:02.973Z"
   },
   {
    "duration": 3,
    "start_time": "2024-12-09T20:37:02.982Z"
   },
   {
    "duration": 691,
    "start_time": "2024-12-09T20:37:02.986Z"
   },
   {
    "duration": 50,
    "start_time": "2024-12-09T20:37:03.679Z"
   },
   {
    "duration": 2875,
    "start_time": "2024-12-09T20:37:03.731Z"
   },
   {
    "duration": 696,
    "start_time": "2024-12-09T20:37:06.608Z"
   },
   {
    "duration": 7,
    "start_time": "2024-12-09T20:37:07.310Z"
   },
   {
    "duration": 344,
    "start_time": "2024-12-09T20:37:07.320Z"
   },
   {
    "duration": 3689,
    "start_time": "2024-12-09T20:37:07.665Z"
   },
   {
    "duration": 263,
    "start_time": "2024-12-09T20:37:11.356Z"
   },
   {
    "duration": 1820,
    "start_time": "2024-12-09T20:37:11.621Z"
   },
   {
    "duration": 34,
    "start_time": "2024-12-09T20:37:13.444Z"
   },
   {
    "duration": 4,
    "start_time": "2024-12-09T20:37:13.482Z"
   },
   {
    "duration": 554,
    "start_time": "2024-12-09T20:37:13.488Z"
   },
   {
    "duration": 147,
    "start_time": "2024-12-09T20:37:14.044Z"
   },
   {
    "duration": 258,
    "start_time": "2024-12-09T20:37:14.193Z"
   },
   {
    "duration": 0,
    "start_time": "2024-12-09T20:37:14.453Z"
   },
   {
    "duration": 0,
    "start_time": "2024-12-09T20:37:14.454Z"
   },
   {
    "duration": 0,
    "start_time": "2024-12-09T20:37:14.455Z"
   },
   {
    "duration": 0,
    "start_time": "2024-12-09T20:37:14.457Z"
   },
   {
    "duration": 0,
    "start_time": "2024-12-09T20:37:14.459Z"
   },
   {
    "duration": 0,
    "start_time": "2024-12-09T20:37:14.460Z"
   },
   {
    "duration": 0,
    "start_time": "2024-12-09T20:37:14.462Z"
   },
   {
    "duration": 0,
    "start_time": "2024-12-09T20:37:14.464Z"
   },
   {
    "duration": 0,
    "start_time": "2024-12-09T20:37:14.464Z"
   },
   {
    "duration": 0,
    "start_time": "2024-12-09T20:37:14.466Z"
   },
   {
    "duration": 0,
    "start_time": "2024-12-09T20:37:14.467Z"
   },
   {
    "duration": 0,
    "start_time": "2024-12-09T20:37:14.468Z"
   },
   {
    "duration": 0,
    "start_time": "2024-12-09T20:37:14.470Z"
   },
   {
    "duration": 0,
    "start_time": "2024-12-09T20:37:14.471Z"
   },
   {
    "duration": 2460,
    "start_time": "2024-12-09T22:37:19.294Z"
   },
   {
    "duration": 8,
    "start_time": "2024-12-09T22:37:21.757Z"
   },
   {
    "duration": 3,
    "start_time": "2024-12-09T22:37:21.768Z"
   },
   {
    "duration": 679,
    "start_time": "2024-12-09T22:37:21.774Z"
   },
   {
    "duration": 40,
    "start_time": "2024-12-09T22:37:22.454Z"
   },
   {
    "duration": 2913,
    "start_time": "2024-12-09T22:37:22.496Z"
   },
   {
    "duration": 747,
    "start_time": "2024-12-09T22:37:25.412Z"
   },
   {
    "duration": 5,
    "start_time": "2024-12-09T22:37:26.161Z"
   },
   {
    "duration": 325,
    "start_time": "2024-12-09T22:37:26.168Z"
   },
   {
    "duration": 3636,
    "start_time": "2024-12-09T22:37:26.495Z"
   },
   {
    "duration": 141,
    "start_time": "2024-12-09T22:37:30.132Z"
   },
   {
    "duration": 1847,
    "start_time": "2024-12-09T22:37:30.275Z"
   },
   {
    "duration": 26,
    "start_time": "2024-12-09T22:37:32.124Z"
   },
   {
    "duration": 4,
    "start_time": "2024-12-09T22:37:32.152Z"
   },
   {
    "duration": 571,
    "start_time": "2024-12-09T22:37:32.157Z"
   },
   {
    "duration": 153,
    "start_time": "2024-12-09T22:37:32.730Z"
   },
   {
    "duration": 370,
    "start_time": "2024-12-09T22:37:32.884Z"
   },
   {
    "duration": 0,
    "start_time": "2024-12-09T22:37:33.256Z"
   },
   {
    "duration": 0,
    "start_time": "2024-12-09T22:37:33.257Z"
   },
   {
    "duration": 0,
    "start_time": "2024-12-09T22:37:33.259Z"
   },
   {
    "duration": 0,
    "start_time": "2024-12-09T22:37:33.260Z"
   },
   {
    "duration": 0,
    "start_time": "2024-12-09T22:37:33.262Z"
   },
   {
    "duration": 0,
    "start_time": "2024-12-09T22:37:33.263Z"
   },
   {
    "duration": 0,
    "start_time": "2024-12-09T22:37:33.265Z"
   },
   {
    "duration": 0,
    "start_time": "2024-12-09T22:37:33.266Z"
   },
   {
    "duration": 0,
    "start_time": "2024-12-09T22:37:33.268Z"
   },
   {
    "duration": 0,
    "start_time": "2024-12-09T22:37:33.269Z"
   },
   {
    "duration": 0,
    "start_time": "2024-12-09T22:37:33.271Z"
   },
   {
    "duration": 0,
    "start_time": "2024-12-09T22:37:33.272Z"
   },
   {
    "duration": 0,
    "start_time": "2024-12-09T22:37:33.273Z"
   },
   {
    "duration": 0,
    "start_time": "2024-12-09T22:37:33.275Z"
   },
   {
    "duration": 16,
    "start_time": "2024-12-09T22:44:46.985Z"
   },
   {
    "duration": 3,
    "start_time": "2024-12-09T22:45:05.409Z"
   },
   {
    "duration": 5,
    "start_time": "2024-12-09T22:47:53.796Z"
   },
   {
    "duration": 163,
    "start_time": "2024-12-09T22:58:09.529Z"
   },
   {
    "duration": 5,
    "start_time": "2024-12-09T23:00:53.193Z"
   },
   {
    "duration": 4,
    "start_time": "2024-12-09T23:01:00.147Z"
   },
   {
    "duration": 13,
    "start_time": "2024-12-09T23:01:21.510Z"
   },
   {
    "duration": 2201,
    "start_time": "2024-12-09T23:03:08.997Z"
   },
   {
    "duration": 3576,
    "start_time": "2024-12-09T23:03:17.244Z"
   },
   {
    "duration": 15,
    "start_time": "2024-12-09T23:03:28.791Z"
   },
   {
    "duration": 3503,
    "start_time": "2024-12-09T23:03:36.207Z"
   },
   {
    "duration": 581,
    "start_time": "2024-12-09T23:03:42.758Z"
   },
   {
    "duration": 4312,
    "start_time": "2024-12-09T23:04:14.294Z"
   },
   {
    "duration": 581,
    "start_time": "2024-12-09T23:04:23.584Z"
   },
   {
    "duration": 11,
    "start_time": "2024-12-09T23:11:26.881Z"
   },
   {
    "duration": 511,
    "start_time": "2024-12-09T23:11:38.074Z"
   },
   {
    "duration": 592,
    "start_time": "2024-12-09T23:11:46.115Z"
   },
   {
    "duration": 523,
    "start_time": "2024-12-09T23:14:26.794Z"
   },
   {
    "duration": 2497,
    "start_time": "2024-12-10T15:18:18.247Z"
   },
   {
    "duration": 7,
    "start_time": "2024-12-10T15:18:20.746Z"
   },
   {
    "duration": 3,
    "start_time": "2024-12-10T15:18:20.754Z"
   },
   {
    "duration": 679,
    "start_time": "2024-12-10T15:18:20.760Z"
   },
   {
    "duration": 38,
    "start_time": "2024-12-10T15:18:21.441Z"
   },
   {
    "duration": 2807,
    "start_time": "2024-12-10T15:18:21.481Z"
   },
   {
    "duration": 648,
    "start_time": "2024-12-10T15:18:24.290Z"
   },
   {
    "duration": 5,
    "start_time": "2024-12-10T15:18:24.940Z"
   },
   {
    "duration": 353,
    "start_time": "2024-12-10T15:18:24.947Z"
   },
   {
    "duration": 3655,
    "start_time": "2024-12-10T15:18:25.304Z"
   },
   {
    "duration": 137,
    "start_time": "2024-12-10T15:18:28.961Z"
   },
   {
    "duration": 1793,
    "start_time": "2024-12-10T15:18:29.100Z"
   },
   {
    "duration": 37,
    "start_time": "2024-12-10T15:18:30.895Z"
   },
   {
    "duration": 4,
    "start_time": "2024-12-10T15:18:30.933Z"
   },
   {
    "duration": 530,
    "start_time": "2024-12-10T15:18:30.938Z"
   },
   {
    "duration": 148,
    "start_time": "2024-12-10T15:18:31.470Z"
   },
   {
    "duration": 2104,
    "start_time": "2024-12-10T15:18:31.620Z"
   },
   {
    "duration": 6395,
    "start_time": "2024-12-10T15:18:33.726Z"
   },
   {
    "duration": 619,
    "start_time": "2024-12-10T15:18:40.123Z"
   },
   {
    "duration": 2348,
    "start_time": "2024-12-10T15:18:40.744Z"
   },
   {
    "duration": 4,
    "start_time": "2024-12-10T15:18:43.094Z"
   },
   {
    "duration": 24,
    "start_time": "2024-12-10T15:18:43.100Z"
   },
   {
    "duration": 140,
    "start_time": "2024-12-10T15:18:43.126Z"
   },
   {
    "duration": 1550,
    "start_time": "2024-12-10T15:18:43.268Z"
   },
   {
    "duration": 8,
    "start_time": "2024-12-10T15:18:44.819Z"
   },
   {
    "duration": 669,
    "start_time": "2024-12-10T15:18:44.829Z"
   },
   {
    "duration": 0,
    "start_time": "2024-12-10T15:18:45.500Z"
   },
   {
    "duration": 0,
    "start_time": "2024-12-10T15:18:45.502Z"
   },
   {
    "duration": 0,
    "start_time": "2024-12-10T15:18:45.503Z"
   },
   {
    "duration": 0,
    "start_time": "2024-12-10T15:18:45.511Z"
   },
   {
    "duration": 0,
    "start_time": "2024-12-10T15:18:45.512Z"
   },
   {
    "duration": 0,
    "start_time": "2024-12-10T15:18:45.513Z"
   },
   {
    "duration": 0,
    "start_time": "2024-12-10T15:18:45.514Z"
   },
   {
    "duration": 3,
    "start_time": "2024-12-10T15:23:44.054Z"
   },
   {
    "duration": 23,
    "start_time": "2024-12-10T15:23:48.690Z"
   },
   {
    "duration": 19,
    "start_time": "2024-12-10T15:23:52.192Z"
   },
   {
    "duration": 284,
    "start_time": "2024-12-10T15:23:55.652Z"
   },
   {
    "duration": 3,
    "start_time": "2024-12-10T15:24:09.102Z"
   },
   {
    "duration": 127,
    "start_time": "2024-12-10T15:41:24.047Z"
   },
   {
    "duration": 39,
    "start_time": "2024-12-10T15:41:32.852Z"
   },
   {
    "duration": 38,
    "start_time": "2024-12-10T15:41:56.377Z"
   },
   {
    "duration": 265,
    "start_time": "2024-12-10T15:44:13.660Z"
   },
   {
    "duration": 6,
    "start_time": "2024-12-10T15:44:20.468Z"
   },
   {
    "duration": 37,
    "start_time": "2024-12-10T15:45:17.656Z"
   },
   {
    "duration": 20,
    "start_time": "2024-12-10T15:46:07.126Z"
   },
   {
    "duration": 39,
    "start_time": "2024-12-10T15:46:15.235Z"
   },
   {
    "duration": 5,
    "start_time": "2024-12-10T15:46:45.238Z"
   },
   {
    "duration": 40,
    "start_time": "2024-12-10T15:47:08.941Z"
   },
   {
    "duration": 63,
    "start_time": "2024-12-10T15:47:31.206Z"
   },
   {
    "duration": 7,
    "start_time": "2024-12-10T15:48:03.979Z"
   },
   {
    "duration": 8,
    "start_time": "2024-12-10T15:48:30.328Z"
   },
   {
    "duration": 286,
    "start_time": "2024-12-10T15:49:22.036Z"
   },
   {
    "duration": 7,
    "start_time": "2024-12-10T15:49:23.799Z"
   },
   {
    "duration": 713,
    "start_time": "2024-12-10T15:49:32.193Z"
   },
   {
    "duration": 6,
    "start_time": "2024-12-10T15:49:41.943Z"
   },
   {
    "duration": 11,
    "start_time": "2024-12-10T15:49:44.702Z"
   },
   {
    "duration": 38,
    "start_time": "2024-12-10T15:50:47.412Z"
   },
   {
    "duration": 22,
    "start_time": "2024-12-10T15:50:58.418Z"
   },
   {
    "duration": 7,
    "start_time": "2024-12-10T15:51:10.036Z"
   },
   {
    "duration": 37,
    "start_time": "2024-12-10T15:51:12.732Z"
   },
   {
    "duration": 3,
    "start_time": "2024-12-10T15:51:23.335Z"
   },
   {
    "duration": 283,
    "start_time": "2024-12-10T15:52:39.273Z"
   },
   {
    "duration": 5,
    "start_time": "2024-12-10T15:55:07.205Z"
   },
   {
    "duration": 43,
    "start_time": "2024-12-10T15:55:57.693Z"
   },
   {
    "duration": 37,
    "start_time": "2024-12-10T15:56:13.251Z"
   },
   {
    "duration": 37,
    "start_time": "2024-12-10T15:56:32.333Z"
   },
   {
    "duration": 42,
    "start_time": "2024-12-10T15:56:36.747Z"
   },
   {
    "duration": 189158,
    "start_time": "2024-12-10T15:59:06.327Z"
   },
   {
    "duration": 238356,
    "start_time": "2024-12-10T16:02:57.854Z"
   },
   {
    "duration": 7842,
    "start_time": "2024-12-10T16:07:45.311Z"
   },
   {
    "duration": 231282,
    "start_time": "2024-12-10T16:07:58.285Z"
   },
   {
    "duration": 4009,
    "start_time": "2024-12-10T16:14:20.110Z"
   },
   {
    "duration": 19,
    "start_time": "2024-12-10T16:15:28.549Z"
   },
   {
    "duration": 2767,
    "start_time": "2024-12-10T16:15:39.990Z"
   },
   {
    "duration": 148,
    "start_time": "2024-12-10T16:17:03.595Z"
   },
   {
    "duration": 48,
    "start_time": "2024-12-10T16:17:12.073Z"
   },
   {
    "duration": 3367,
    "start_time": "2024-12-10T16:17:49.129Z"
   },
   {
    "duration": 54,
    "start_time": "2024-12-10T16:20:45.075Z"
   },
   {
    "duration": 234826,
    "start_time": "2024-12-10T16:20:49.987Z"
   },
   {
    "duration": 3883,
    "start_time": "2024-12-10T16:27:19.059Z"
   },
   {
    "duration": 3994,
    "start_time": "2024-12-10T16:27:40.082Z"
   },
   {
    "duration": 47,
    "start_time": "2024-12-10T16:28:28.345Z"
   },
   {
    "duration": 245039,
    "start_time": "2024-12-10T16:29:16.798Z"
   },
   {
    "duration": 2375,
    "start_time": "2024-12-10T16:33:56.757Z"
   },
   {
    "duration": 4446,
    "start_time": "2024-12-10T16:34:34.224Z"
   },
   {
    "duration": 153,
    "start_time": "2024-12-10T16:34:41.292Z"
   },
   {
    "duration": 79,
    "start_time": "2024-12-10T16:35:14.788Z"
   },
   {
    "duration": 10331,
    "start_time": "2024-12-10T16:35:23.838Z"
   },
   {
    "duration": 468687,
    "start_time": "2024-12-10T16:36:43.009Z"
   },
   {
    "duration": 9397,
    "start_time": "2024-12-10T16:52:20.633Z"
   },
   {
    "duration": 19,
    "start_time": "2024-12-10T16:56:44.114Z"
   },
   {
    "duration": 4,
    "start_time": "2024-12-10T16:56:48.238Z"
   },
   {
    "duration": 3,
    "start_time": "2024-12-10T16:57:15.860Z"
   },
   {
    "duration": 4,
    "start_time": "2024-12-10T16:57:42.588Z"
   },
   {
    "duration": 3,
    "start_time": "2024-12-10T16:57:58.050Z"
   },
   {
    "duration": 3,
    "start_time": "2024-12-10T16:58:08.938Z"
   },
   {
    "duration": 483830,
    "start_time": "2024-12-10T16:59:31.349Z"
   },
   {
    "duration": 4706,
    "start_time": "2024-12-10T17:07:54.055Z"
   },
   {
    "duration": 3,
    "start_time": "2024-12-10T17:08:34.860Z"
   },
   {
    "duration": 3,
    "start_time": "2024-12-10T17:08:38.557Z"
   },
   {
    "duration": 6518,
    "start_time": "2024-12-10T17:08:44.465Z"
   },
   {
    "duration": 7339,
    "start_time": "2024-12-10T17:09:34.676Z"
   },
   {
    "duration": 4,
    "start_time": "2024-12-10T17:10:23.362Z"
   },
   {
    "duration": 60,
    "start_time": "2024-12-10T17:10:30.184Z"
   },
   {
    "duration": 4,
    "start_time": "2024-12-10T17:11:05.861Z"
   },
   {
    "duration": 4,
    "start_time": "2024-12-10T17:11:25.419Z"
   },
   {
    "duration": 477918,
    "start_time": "2024-12-10T17:12:01.542Z"
   },
   {
    "duration": 2575,
    "start_time": "2024-12-10T17:20:43.210Z"
   },
   {
    "duration": 5,
    "start_time": "2024-12-10T17:20:49.878Z"
   },
   {
    "duration": 4,
    "start_time": "2024-12-10T17:20:54.324Z"
   },
   {
    "duration": 5456,
    "start_time": "2024-12-10T17:21:03.209Z"
   },
   {
    "duration": 243220,
    "start_time": "2024-12-10T17:33:40.386Z"
   },
   {
    "duration": 1259,
    "start_time": "2024-12-10T17:38:37.136Z"
   },
   {
    "duration": 4,
    "start_time": "2024-12-10T17:38:47.318Z"
   },
   {
    "duration": 36,
    "start_time": "2024-12-10T17:38:59.574Z"
   },
   {
    "duration": 18,
    "start_time": "2024-12-10T17:39:19.199Z"
   },
   {
    "duration": 235831,
    "start_time": "2024-12-10T17:40:15.001Z"
   },
   {
    "duration": 18,
    "start_time": "2024-12-10T17:46:34.012Z"
   },
   {
    "duration": 2426,
    "start_time": "2024-12-10T17:46:38.510Z"
   },
   {
    "duration": 4910,
    "start_time": "2024-12-10T17:47:06.186Z"
   },
   {
    "duration": 2357,
    "start_time": "2024-12-10T17:48:30.971Z"
   },
   {
    "duration": 5884,
    "start_time": "2024-12-10T17:48:36.961Z"
   },
   {
    "duration": 2,
    "start_time": "2024-12-10T18:01:58.702Z"
   },
   {
    "duration": 19,
    "start_time": "2024-12-10T18:22:44.076Z"
   },
   {
    "duration": 3,
    "start_time": "2024-12-10T18:23:24.864Z"
   },
   {
    "duration": 21,
    "start_time": "2024-12-10T18:23:28.644Z"
   },
   {
    "duration": 2,
    "start_time": "2024-12-10T18:24:06.036Z"
   },
   {
    "duration": 28644,
    "start_time": "2024-12-10T18:24:08.020Z"
   },
   {
    "duration": 1249,
    "start_time": "2024-12-10T18:24:55.993Z"
   },
   {
    "duration": 2,
    "start_time": "2024-12-10T18:59:05.529Z"
   },
   {
    "duration": 1389,
    "start_time": "2024-12-10T18:59:07.486Z"
   },
   {
    "duration": 2545,
    "start_time": "2024-12-12T16:50:04.108Z"
   },
   {
    "duration": 6,
    "start_time": "2024-12-12T16:50:06.655Z"
   },
   {
    "duration": 3,
    "start_time": "2024-12-12T16:50:06.663Z"
   },
   {
    "duration": 706,
    "start_time": "2024-12-12T16:50:06.669Z"
   },
   {
    "duration": 52,
    "start_time": "2024-12-12T16:50:07.377Z"
   },
   {
    "duration": 2891,
    "start_time": "2024-12-12T16:50:07.430Z"
   },
   {
    "duration": 662,
    "start_time": "2024-12-12T16:50:10.324Z"
   },
   {
    "duration": 5,
    "start_time": "2024-12-12T16:50:10.988Z"
   },
   {
    "duration": 304,
    "start_time": "2024-12-12T16:50:10.995Z"
   },
   {
    "duration": 3637,
    "start_time": "2024-12-12T16:50:11.308Z"
   },
   {
    "duration": 232,
    "start_time": "2024-12-12T16:50:14.946Z"
   },
   {
    "duration": 1867,
    "start_time": "2024-12-12T16:50:15.180Z"
   },
   {
    "duration": 27,
    "start_time": "2024-12-12T16:50:17.049Z"
   },
   {
    "duration": 4,
    "start_time": "2024-12-12T16:50:17.078Z"
   },
   {
    "duration": 584,
    "start_time": "2024-12-12T16:50:17.083Z"
   },
   {
    "duration": 153,
    "start_time": "2024-12-12T16:50:17.669Z"
   },
   {
    "duration": 2163,
    "start_time": "2024-12-12T16:50:17.823Z"
   },
   {
    "duration": 5427,
    "start_time": "2024-12-12T16:50:19.988Z"
   },
   {
    "duration": 658,
    "start_time": "2024-12-12T16:50:25.417Z"
   },
   {
    "duration": 2357,
    "start_time": "2024-12-12T16:50:26.077Z"
   },
   {
    "duration": 247062,
    "start_time": "2024-12-12T16:50:28.437Z"
   },
   {
    "duration": 233922,
    "start_time": "2024-12-12T16:54:35.500Z"
   },
   {
    "duration": 2379,
    "start_time": "2024-12-12T16:58:29.424Z"
   },
   {
    "duration": 7,
    "start_time": "2024-12-12T16:58:31.805Z"
   },
   {
    "duration": 5290,
    "start_time": "2024-12-12T16:58:31.814Z"
   },
   {
    "duration": 37,
    "start_time": "2024-12-12T16:58:37.110Z"
   },
   {
    "duration": 35166,
    "start_time": "2024-12-12T16:58:37.152Z"
   },
   {
    "duration": 1317,
    "start_time": "2024-12-12T16:59:12.322Z"
   },
   {
    "duration": 138,
    "start_time": "2024-12-12T16:59:13.640Z"
   },
   {
    "duration": 1489,
    "start_time": "2024-12-12T16:59:13.780Z"
   },
   {
    "duration": 5,
    "start_time": "2024-12-12T16:59:15.271Z"
   },
   {
    "duration": 897,
    "start_time": "2024-12-12T16:59:15.278Z"
   },
   {
    "duration": 0,
    "start_time": "2024-12-12T16:59:16.177Z"
   },
   {
    "duration": 0,
    "start_time": "2024-12-12T16:59:16.178Z"
   },
   {
    "duration": 0,
    "start_time": "2024-12-12T16:59:16.180Z"
   },
   {
    "duration": 0,
    "start_time": "2024-12-12T16:59:16.181Z"
   },
   {
    "duration": 0,
    "start_time": "2024-12-12T16:59:16.183Z"
   },
   {
    "duration": 0,
    "start_time": "2024-12-12T16:59:16.184Z"
   },
   {
    "duration": 0,
    "start_time": "2024-12-12T16:59:16.185Z"
   },
   {
    "duration": 1337,
    "start_time": "2024-12-12T17:10:57.468Z"
   },
   {
    "duration": 1268,
    "start_time": "2024-12-12T17:14:04.965Z"
   },
   {
    "duration": 2,
    "start_time": "2024-12-12T17:14:33.014Z"
   },
   {
    "duration": 1511,
    "start_time": "2024-12-12T17:14:35.267Z"
   },
   {
    "duration": 3,
    "start_time": "2024-12-12T17:14:42.211Z"
   },
   {
    "duration": 1111,
    "start_time": "2024-12-12T17:14:44.157Z"
   },
   {
    "duration": 6,
    "start_time": "2024-12-12T17:19:53.056Z"
   },
   {
    "duration": 6,
    "start_time": "2024-12-12T17:20:00.151Z"
   },
   {
    "duration": 69438,
    "start_time": "2024-12-12T17:20:18.414Z"
   },
   {
    "duration": 6,
    "start_time": "2024-12-12T17:31:23.818Z"
   },
   {
    "duration": 69793,
    "start_time": "2024-12-12T17:31:38.592Z"
   },
   {
    "duration": 3,
    "start_time": "2024-12-12T17:34:06.039Z"
   },
   {
    "duration": 10,
    "start_time": "2024-12-12T17:41:02.526Z"
   },
   {
    "duration": 7,
    "start_time": "2024-12-12T17:41:10.811Z"
   },
   {
    "duration": 7,
    "start_time": "2024-12-12T17:41:19.626Z"
   },
   {
    "duration": 873,
    "start_time": "2024-12-12T17:43:37.130Z"
   },
   {
    "duration": 6,
    "start_time": "2024-12-12T17:43:38.008Z"
   },
   {
    "duration": 3,
    "start_time": "2024-12-12T17:43:38.016Z"
   },
   {
    "duration": 655,
    "start_time": "2024-12-12T17:43:38.021Z"
   },
   {
    "duration": 49,
    "start_time": "2024-12-12T17:43:38.677Z"
   },
   {
    "duration": 2889,
    "start_time": "2024-12-12T17:43:38.728Z"
   },
   {
    "duration": 648,
    "start_time": "2024-12-12T17:43:41.620Z"
   },
   {
    "duration": 5,
    "start_time": "2024-12-12T17:43:42.270Z"
   },
   {
    "duration": 413,
    "start_time": "2024-12-12T17:43:42.277Z"
   },
   {
    "duration": 3784,
    "start_time": "2024-12-12T17:43:42.694Z"
   },
   {
    "duration": 147,
    "start_time": "2024-12-12T17:43:46.480Z"
   },
   {
    "duration": 1957,
    "start_time": "2024-12-12T17:43:46.629Z"
   },
   {
    "duration": 37,
    "start_time": "2024-12-12T17:43:48.588Z"
   },
   {
    "duration": 4,
    "start_time": "2024-12-12T17:43:48.626Z"
   },
   {
    "duration": 529,
    "start_time": "2024-12-12T17:43:48.632Z"
   },
   {
    "duration": 246,
    "start_time": "2024-12-12T17:43:49.163Z"
   },
   {
    "duration": 2162,
    "start_time": "2024-12-12T17:43:49.411Z"
   },
   {
    "duration": 6443,
    "start_time": "2024-12-12T17:43:51.575Z"
   },
   {
    "duration": 654,
    "start_time": "2024-12-12T17:43:58.020Z"
   },
   {
    "duration": 2260,
    "start_time": "2024-12-12T17:43:58.676Z"
   },
   {
    "duration": 254217,
    "start_time": "2024-12-12T17:44:00.938Z"
   },
   {
    "duration": 240005,
    "start_time": "2024-12-12T17:48:15.158Z"
   },
   {
    "duration": 2519,
    "start_time": "2024-12-12T17:52:15.165Z"
   },
   {
    "duration": 5,
    "start_time": "2024-12-12T17:52:17.686Z"
   },
   {
    "duration": 8301,
    "start_time": "2024-12-12T17:52:17.693Z"
   },
   {
    "duration": 28,
    "start_time": "2024-12-12T17:52:25.996Z"
   },
   {
    "duration": 29209,
    "start_time": "2024-12-12T17:52:26.025Z"
   },
   {
    "duration": 1354,
    "start_time": "2024-12-12T17:52:55.239Z"
   },
   {
    "duration": 149,
    "start_time": "2024-12-12T17:52:56.595Z"
   },
   {
    "duration": 1600,
    "start_time": "2024-12-12T17:52:56.746Z"
   },
   {
    "duration": 6,
    "start_time": "2024-12-12T17:52:58.348Z"
   },
   {
    "duration": 6,
    "start_time": "2024-12-12T17:54:07.053Z"
   },
   {
    "duration": 173,
    "start_time": "2024-12-12T17:56:29.675Z"
   },
   {
    "duration": 851,
    "start_time": "2024-12-12T17:57:33.357Z"
   },
   {
    "duration": 6,
    "start_time": "2024-12-12T17:57:34.210Z"
   },
   {
    "duration": 3,
    "start_time": "2024-12-12T17:57:34.217Z"
   },
   {
    "duration": 662,
    "start_time": "2024-12-12T17:57:34.223Z"
   },
   {
    "duration": 42,
    "start_time": "2024-12-12T17:57:34.887Z"
   },
   {
    "duration": 2886,
    "start_time": "2024-12-12T17:57:34.931Z"
   },
   {
    "duration": 636,
    "start_time": "2024-12-12T17:57:37.820Z"
   },
   {
    "duration": 6,
    "start_time": "2024-12-12T17:57:38.459Z"
   },
   {
    "duration": 410,
    "start_time": "2024-12-12T17:57:38.466Z"
   },
   {
    "duration": 3735,
    "start_time": "2024-12-12T17:57:38.880Z"
   },
   {
    "duration": 149,
    "start_time": "2024-12-12T17:57:42.617Z"
   },
   {
    "duration": 1874,
    "start_time": "2024-12-12T17:57:42.768Z"
   },
   {
    "duration": 28,
    "start_time": "2024-12-12T17:57:44.643Z"
   },
   {
    "duration": 3,
    "start_time": "2024-12-12T17:57:44.673Z"
   },
   {
    "duration": 583,
    "start_time": "2024-12-12T17:57:44.678Z"
   },
   {
    "duration": 249,
    "start_time": "2024-12-12T17:57:45.263Z"
   },
   {
    "duration": 2279,
    "start_time": "2024-12-12T17:57:45.513Z"
   },
   {
    "duration": 5932,
    "start_time": "2024-12-12T17:57:47.793Z"
   },
   {
    "duration": 705,
    "start_time": "2024-12-12T17:57:53.727Z"
   },
   {
    "duration": 2345,
    "start_time": "2024-12-12T17:57:54.434Z"
   },
   {
    "duration": 255167,
    "start_time": "2024-12-12T17:57:56.781Z"
   },
   {
    "duration": 240940,
    "start_time": "2024-12-12T18:02:11.950Z"
   },
   {
    "duration": 2508,
    "start_time": "2024-12-12T18:06:12.892Z"
   },
   {
    "duration": 8,
    "start_time": "2024-12-12T18:06:15.402Z"
   },
   {
    "duration": 5996,
    "start_time": "2024-12-12T18:06:15.412Z"
   },
   {
    "duration": 46,
    "start_time": "2024-12-12T18:06:21.410Z"
   },
   {
    "duration": 29301,
    "start_time": "2024-12-12T18:06:21.457Z"
   },
   {
    "duration": 1384,
    "start_time": "2024-12-12T18:06:50.762Z"
   },
   {
    "duration": 141,
    "start_time": "2024-12-12T18:06:52.149Z"
   },
   {
    "duration": 1490,
    "start_time": "2024-12-12T18:06:52.292Z"
   },
   {
    "duration": 6,
    "start_time": "2024-12-12T18:06:53.784Z"
   },
   {
    "duration": 74749,
    "start_time": "2024-12-12T18:06:53.792Z"
   },
   {
    "duration": 4,
    "start_time": "2024-12-12T18:08:08.542Z"
   },
   {
    "duration": 3,
    "start_time": "2024-12-12T18:08:08.548Z"
   },
   {
    "duration": 3,
    "start_time": "2024-12-12T18:08:08.553Z"
   },
   {
    "duration": 55,
    "start_time": "2024-12-12T18:08:08.557Z"
   },
   {
    "duration": 547,
    "start_time": "2024-12-12T18:08:08.616Z"
   },
   {
    "duration": 0,
    "start_time": "2024-12-12T18:08:09.165Z"
   },
   {
    "duration": 0,
    "start_time": "2024-12-12T18:08:09.166Z"
   },
   {
    "duration": 0,
    "start_time": "2024-12-12T18:08:09.168Z"
   },
   {
    "duration": 24,
    "start_time": "2024-12-12T18:10:02.560Z"
   },
   {
    "duration": 23,
    "start_time": "2024-12-12T18:12:08.913Z"
   },
   {
    "duration": 24,
    "start_time": "2024-12-12T18:13:03.994Z"
   },
   {
    "duration": 66,
    "start_time": "2024-12-12T18:13:08.963Z"
   },
   {
    "duration": 22,
    "start_time": "2024-12-12T18:13:20.652Z"
   },
   {
    "duration": 679,
    "start_time": "2024-12-12T18:15:11.308Z"
   },
   {
    "duration": 74,
    "start_time": "2024-12-12T18:15:38.964Z"
   },
   {
    "duration": 71,
    "start_time": "2024-12-12T18:16:10.559Z"
   },
   {
    "duration": 10,
    "start_time": "2024-12-12T18:17:00.183Z"
   },
   {
    "duration": 23,
    "start_time": "2024-12-12T18:17:10.172Z"
   },
   {
    "duration": 25,
    "start_time": "2024-12-12T18:17:17.504Z"
   },
   {
    "duration": 23,
    "start_time": "2024-12-12T18:17:23.549Z"
   },
   {
    "duration": 23,
    "start_time": "2024-12-12T18:17:27.293Z"
   },
   {
    "duration": 33359,
    "start_time": "2024-12-12T18:17:31.588Z"
   },
   {
    "duration": 23,
    "start_time": "2024-12-12T18:18:10.752Z"
   },
   {
    "duration": 7,
    "start_time": "2024-12-12T18:53:27.290Z"
   },
   {
    "duration": 24,
    "start_time": "2024-12-12T18:54:12.709Z"
   },
   {
    "duration": 34,
    "start_time": "2024-12-12T18:54:17.166Z"
   },
   {
    "duration": 24,
    "start_time": "2024-12-12T18:54:23.880Z"
   },
   {
    "duration": 72529,
    "start_time": "2024-12-12T18:54:35.497Z"
   },
   {
    "duration": 73321,
    "start_time": "2024-12-12T19:03:59.488Z"
   },
   {
    "duration": 20,
    "start_time": "2024-12-12T19:15:22.114Z"
   },
   {
    "duration": 190,
    "start_time": "2024-12-12T19:16:26.311Z"
   },
   {
    "duration": 3,
    "start_time": "2024-12-12T19:20:11.464Z"
   },
   {
    "duration": 70035,
    "start_time": "2024-12-12T19:29:27.138Z"
   },
   {
    "duration": 69608,
    "start_time": "2024-12-12T19:31:15.445Z"
   },
   {
    "duration": 827,
    "start_time": "2024-12-12T19:33:52.781Z"
   },
   {
    "duration": 7,
    "start_time": "2024-12-12T19:33:53.611Z"
   },
   {
    "duration": 3,
    "start_time": "2024-12-12T19:33:53.619Z"
   },
   {
    "duration": 648,
    "start_time": "2024-12-12T19:33:53.624Z"
   },
   {
    "duration": 49,
    "start_time": "2024-12-12T19:33:54.274Z"
   },
   {
    "duration": 2857,
    "start_time": "2024-12-12T19:33:54.325Z"
   },
   {
    "duration": 677,
    "start_time": "2024-12-12T19:33:57.184Z"
   },
   {
    "duration": 5,
    "start_time": "2024-12-12T19:33:57.864Z"
   },
   {
    "duration": 426,
    "start_time": "2024-12-12T19:33:57.870Z"
   },
   {
    "duration": 3942,
    "start_time": "2024-12-12T19:33:58.299Z"
   },
   {
    "duration": 168,
    "start_time": "2024-12-12T19:34:02.243Z"
   },
   {
    "duration": 1979,
    "start_time": "2024-12-12T19:34:02.414Z"
   },
   {
    "duration": 43,
    "start_time": "2024-12-12T19:34:04.396Z"
   },
   {
    "duration": 4,
    "start_time": "2024-12-12T19:34:04.444Z"
   },
   {
    "duration": 591,
    "start_time": "2024-12-12T19:34:04.450Z"
   },
   {
    "duration": 268,
    "start_time": "2024-12-12T19:34:05.043Z"
   },
   {
    "duration": 2382,
    "start_time": "2024-12-12T19:34:05.313Z"
   },
   {
    "duration": 4412,
    "start_time": "2024-12-12T19:34:07.697Z"
   },
   {
    "duration": 640,
    "start_time": "2024-12-12T19:34:12.116Z"
   },
   {
    "duration": 2295,
    "start_time": "2024-12-12T19:34:12.758Z"
   },
   {
    "duration": 262771,
    "start_time": "2024-12-12T19:34:15.054Z"
   },
   {
    "duration": 249996,
    "start_time": "2024-12-12T19:38:37.827Z"
   },
   {
    "duration": 2517,
    "start_time": "2024-12-12T19:42:47.825Z"
   },
   {
    "duration": 5,
    "start_time": "2024-12-12T19:42:50.344Z"
   },
   {
    "duration": 6463,
    "start_time": "2024-12-12T19:42:50.352Z"
   },
   {
    "duration": 25,
    "start_time": "2024-12-12T19:42:56.817Z"
   },
   {
    "duration": 29219,
    "start_time": "2024-12-12T19:42:56.843Z"
   },
   {
    "duration": 1472,
    "start_time": "2024-12-12T19:43:26.063Z"
   },
   {
    "duration": 146,
    "start_time": "2024-12-12T19:43:27.536Z"
   },
   {
    "duration": 1417,
    "start_time": "2024-12-12T19:43:27.684Z"
   },
   {
    "duration": 6,
    "start_time": "2024-12-12T19:43:29.103Z"
   },
   {
    "duration": 73022,
    "start_time": "2024-12-12T19:43:29.111Z"
   },
   {
    "duration": 73181,
    "start_time": "2024-12-12T19:44:42.136Z"
   },
   {
    "duration": 3,
    "start_time": "2024-12-12T19:45:55.319Z"
   },
   {
    "duration": 2,
    "start_time": "2024-12-12T19:45:55.324Z"
   },
   {
    "duration": 693,
    "start_time": "2024-12-12T19:45:55.328Z"
   },
   {
    "duration": 0,
    "start_time": "2024-12-12T19:45:56.023Z"
   },
   {
    "duration": 0,
    "start_time": "2024-12-12T19:45:56.024Z"
   },
   {
    "duration": 0,
    "start_time": "2024-12-12T19:45:56.026Z"
   },
   {
    "duration": 0,
    "start_time": "2024-12-12T19:45:56.027Z"
   },
   {
    "duration": 0,
    "start_time": "2024-12-12T19:45:56.029Z"
   },
   {
    "duration": 0,
    "start_time": "2024-12-12T19:45:56.030Z"
   },
   {
    "duration": 26,
    "start_time": "2024-12-12T19:48:03.293Z"
   },
   {
    "duration": 10,
    "start_time": "2024-12-12T19:48:06.241Z"
   },
   {
    "duration": 7,
    "start_time": "2024-12-12T19:48:09.151Z"
   },
   {
    "duration": 25,
    "start_time": "2024-12-12T19:48:11.205Z"
   },
   {
    "duration": 24,
    "start_time": "2024-12-12T19:48:13.422Z"
   },
   {
    "duration": 7,
    "start_time": "2024-12-12T20:04:20.766Z"
   },
   {
    "duration": 74008,
    "start_time": "2024-12-12T20:04:27.207Z"
   },
   {
    "duration": 70943,
    "start_time": "2024-12-12T20:05:47.472Z"
   },
   {
    "duration": 4,
    "start_time": "2024-12-12T20:07:04.570Z"
   },
   {
    "duration": 59,
    "start_time": "2024-12-12T20:07:40.855Z"
   },
   {
    "duration": 3,
    "start_time": "2024-12-12T20:08:04.108Z"
   },
   {
    "duration": 9,
    "start_time": "2024-12-12T20:09:12.447Z"
   },
   {
    "duration": 2,
    "start_time": "2024-12-12T20:14:11.429Z"
   },
   {
    "duration": 2562,
    "start_time": "2024-12-13T17:17:55.787Z"
   },
   {
    "duration": 6,
    "start_time": "2024-12-13T17:17:58.352Z"
   },
   {
    "duration": 3,
    "start_time": "2024-12-13T17:17:58.360Z"
   },
   {
    "duration": 661,
    "start_time": "2024-12-13T17:17:58.365Z"
   },
   {
    "duration": 40,
    "start_time": "2024-12-13T17:17:59.029Z"
   },
   {
    "duration": 2773,
    "start_time": "2024-12-13T17:17:59.071Z"
   },
   {
    "duration": 674,
    "start_time": "2024-12-13T17:18:01.846Z"
   },
   {
    "duration": 6,
    "start_time": "2024-12-13T17:18:02.522Z"
   },
   {
    "duration": 328,
    "start_time": "2024-12-13T17:18:02.530Z"
   },
   {
    "duration": 3738,
    "start_time": "2024-12-13T17:18:02.861Z"
   },
   {
    "duration": 141,
    "start_time": "2024-12-13T17:18:06.601Z"
   },
   {
    "duration": 1836,
    "start_time": "2024-12-13T17:18:06.744Z"
   },
   {
    "duration": 32,
    "start_time": "2024-12-13T17:18:08.581Z"
   },
   {
    "duration": 4,
    "start_time": "2024-12-13T17:18:08.617Z"
   },
   {
    "duration": 534,
    "start_time": "2024-12-13T17:18:08.622Z"
   },
   {
    "duration": 141,
    "start_time": "2024-12-13T17:18:09.158Z"
   },
   {
    "duration": 2163,
    "start_time": "2024-12-13T17:18:09.301Z"
   },
   {
    "duration": 4268,
    "start_time": "2024-12-13T17:18:11.465Z"
   },
   {
    "duration": 686,
    "start_time": "2024-12-13T17:18:15.735Z"
   },
   {
    "duration": 2354,
    "start_time": "2024-12-13T17:18:16.422Z"
   },
   {
    "duration": 249806,
    "start_time": "2024-12-13T17:18:18.778Z"
   },
   {
    "duration": 234336,
    "start_time": "2024-12-13T17:22:28.585Z"
   },
   {
    "duration": 2468,
    "start_time": "2024-12-13T17:26:22.923Z"
   },
   {
    "duration": 5,
    "start_time": "2024-12-13T17:26:25.393Z"
   },
   {
    "duration": 5942,
    "start_time": "2024-12-13T17:26:25.400Z"
   },
   {
    "duration": 120,
    "start_time": "2024-12-13T17:26:31.343Z"
   },
   {
    "duration": 27865,
    "start_time": "2024-12-13T17:26:31.465Z"
   },
   {
    "duration": 1272,
    "start_time": "2024-12-13T17:26:59.332Z"
   },
   {
    "duration": 13,
    "start_time": "2024-12-13T17:27:00.606Z"
   },
   {
    "duration": 5,
    "start_time": "2024-12-13T17:27:00.621Z"
   },
   {
    "duration": 22,
    "start_time": "2024-12-13T17:27:00.627Z"
   },
   {
    "duration": 22,
    "start_time": "2024-12-13T17:27:00.651Z"
   },
   {
    "duration": 4,
    "start_time": "2024-12-13T18:21:46.257Z"
   },
   {
    "duration": 4,
    "start_time": "2024-12-13T18:22:10.698Z"
   },
   {
    "duration": 4,
    "start_time": "2024-12-13T18:54:07.970Z"
   },
   {
    "duration": 4279,
    "start_time": "2024-12-13T18:54:35.032Z"
   },
   {
    "duration": 2509,
    "start_time": "2024-12-13T18:55:40.797Z"
   },
   {
    "duration": 7,
    "start_time": "2024-12-13T18:55:43.308Z"
   },
   {
    "duration": 3,
    "start_time": "2024-12-13T18:55:43.317Z"
   },
   {
    "duration": 652,
    "start_time": "2024-12-13T18:55:43.323Z"
   },
   {
    "duration": 40,
    "start_time": "2024-12-13T18:55:43.976Z"
   },
   {
    "duration": 2880,
    "start_time": "2024-12-13T18:55:44.018Z"
   },
   {
    "duration": 663,
    "start_time": "2024-12-13T18:55:46.900Z"
   },
   {
    "duration": 6,
    "start_time": "2024-12-13T18:55:47.569Z"
   },
   {
    "duration": 296,
    "start_time": "2024-12-13T18:55:47.576Z"
   },
   {
    "duration": 3609,
    "start_time": "2024-12-13T18:55:47.875Z"
   },
   {
    "duration": 162,
    "start_time": "2024-12-13T18:55:51.487Z"
   },
   {
    "duration": 1841,
    "start_time": "2024-12-13T18:55:51.651Z"
   },
   {
    "duration": 27,
    "start_time": "2024-12-13T18:55:53.493Z"
   },
   {
    "duration": 4,
    "start_time": "2024-12-13T18:55:53.522Z"
   },
   {
    "duration": 635,
    "start_time": "2024-12-13T18:55:53.528Z"
   },
   {
    "duration": 142,
    "start_time": "2024-12-13T18:55:54.165Z"
   },
   {
    "duration": 2192,
    "start_time": "2024-12-13T18:55:54.309Z"
   },
   {
    "duration": 4283,
    "start_time": "2024-12-13T18:55:56.503Z"
   },
   {
    "duration": 686,
    "start_time": "2024-12-13T18:56:00.788Z"
   },
   {
    "duration": 2155,
    "start_time": "2024-12-13T18:56:01.476Z"
   },
   {
    "duration": 244201,
    "start_time": "2024-12-13T18:56:03.633Z"
   },
   {
    "duration": 231230,
    "start_time": "2024-12-13T19:00:07.836Z"
   },
   {
    "duration": 2513,
    "start_time": "2024-12-13T19:03:59.067Z"
   },
   {
    "duration": 5,
    "start_time": "2024-12-13T19:04:01.582Z"
   },
   {
    "duration": 7966,
    "start_time": "2024-12-13T19:04:01.588Z"
   },
   {
    "duration": 23,
    "start_time": "2024-12-13T19:04:09.555Z"
   },
   {
    "duration": 27800,
    "start_time": "2024-12-13T19:04:09.579Z"
   },
   {
    "duration": 1273,
    "start_time": "2024-12-13T19:04:37.383Z"
   },
   {
    "duration": 2470,
    "start_time": "2024-12-13T19:04:38.657Z"
   },
   {
    "duration": 3,
    "start_time": "2024-12-13T19:04:41.128Z"
   },
   {
    "duration": 4057,
    "start_time": "2024-12-13T19:09:38.574Z"
   },
   {
    "duration": 798,
    "start_time": "2024-12-13T19:10:00.263Z"
   },
   {
    "duration": 9,
    "start_time": "2024-12-13T19:10:01.063Z"
   },
   {
    "duration": 2,
    "start_time": "2024-12-13T19:10:01.074Z"
   },
   {
    "duration": 687,
    "start_time": "2024-12-13T19:10:01.078Z"
   },
   {
    "duration": 40,
    "start_time": "2024-12-13T19:10:01.770Z"
   },
   {
    "duration": 2838,
    "start_time": "2024-12-13T19:10:01.812Z"
   },
   {
    "duration": 635,
    "start_time": "2024-12-13T19:10:04.653Z"
   },
   {
    "duration": 5,
    "start_time": "2024-12-13T19:10:05.292Z"
   },
   {
    "duration": 390,
    "start_time": "2024-12-13T19:10:05.298Z"
   },
   {
    "duration": 3622,
    "start_time": "2024-12-13T19:10:05.690Z"
   },
   {
    "duration": 137,
    "start_time": "2024-12-13T19:10:09.314Z"
   },
   {
    "duration": 1832,
    "start_time": "2024-12-13T19:10:09.453Z"
   },
   {
    "duration": 27,
    "start_time": "2024-12-13T19:10:11.287Z"
   },
   {
    "duration": 3,
    "start_time": "2024-12-13T19:10:11.318Z"
   },
   {
    "duration": 564,
    "start_time": "2024-12-13T19:10:11.323Z"
   },
   {
    "duration": 236,
    "start_time": "2024-12-13T19:10:11.889Z"
   },
   {
    "duration": 2099,
    "start_time": "2024-12-13T19:10:12.126Z"
   },
   {
    "duration": 4845,
    "start_time": "2024-12-13T19:10:14.226Z"
   },
   {
    "duration": 667,
    "start_time": "2024-12-13T19:10:19.073Z"
   },
   {
    "duration": 2183,
    "start_time": "2024-12-13T19:10:19.742Z"
   },
   {
    "duration": 244786,
    "start_time": "2024-12-13T19:10:21.927Z"
   },
   {
    "duration": 231400,
    "start_time": "2024-12-13T19:14:26.715Z"
   },
   {
    "duration": 2451,
    "start_time": "2024-12-13T19:18:18.116Z"
   },
   {
    "duration": 5,
    "start_time": "2024-12-13T19:18:20.570Z"
   },
   {
    "duration": 5412,
    "start_time": "2024-12-13T19:18:20.577Z"
   },
   {
    "duration": 23,
    "start_time": "2024-12-13T19:18:25.991Z"
   },
   {
    "duration": 28613,
    "start_time": "2024-12-13T19:18:26.015Z"
   },
   {
    "duration": 1307,
    "start_time": "2024-12-13T19:18:54.630Z"
   },
   {
    "duration": 1741,
    "start_time": "2024-12-13T19:18:55.939Z"
   },
   {
    "duration": 3,
    "start_time": "2024-12-13T19:18:57.682Z"
   },
   {
    "duration": 164,
    "start_time": "2024-12-13T20:23:04.245Z"
   },
   {
    "duration": 919,
    "start_time": "2024-12-13T20:23:13.276Z"
   },
   {
    "duration": 74,
    "start_time": "2024-12-13T20:23:26.404Z"
   },
   {
    "duration": 137,
    "start_time": "2024-12-13T20:23:37.955Z"
   },
   {
    "duration": 22,
    "start_time": "2024-12-13T20:23:39.770Z"
   },
   {
    "duration": 700,
    "start_time": "2024-12-13T20:23:53.238Z"
   },
   {
    "duration": 42,
    "start_time": "2024-12-13T20:23:54.971Z"
   },
   {
    "duration": 11,
    "start_time": "2024-12-13T20:24:08.001Z"
   },
   {
    "duration": 1838,
    "start_time": "2024-12-13T20:24:16.412Z"
   },
   {
    "duration": 4,
    "start_time": "2024-12-13T20:24:31.838Z"
   },
   {
    "duration": 15,
    "start_time": "2024-12-13T20:24:33.202Z"
   },
   {
    "duration": 31,
    "start_time": "2024-12-13T20:24:35.976Z"
   },
   {
    "duration": 565,
    "start_time": "2024-12-13T20:24:38.205Z"
   },
   {
    "duration": 201,
    "start_time": "2024-12-13T20:24:44.829Z"
   },
   {
    "duration": 2180,
    "start_time": "2024-12-13T20:24:46.480Z"
   },
   {
    "duration": 5859,
    "start_time": "2024-12-13T20:24:48.912Z"
   },
   {
    "duration": 594,
    "start_time": "2024-12-13T20:24:54.996Z"
   },
   {
    "duration": 2209,
    "start_time": "2024-12-13T20:24:58.642Z"
   },
   {
    "duration": 245946,
    "start_time": "2024-12-13T20:25:02.325Z"
   }
  ],
  "kernelspec": {
   "display_name": "Python 3 (ipykernel)",
   "language": "python",
   "name": "python3"
  },
  "language_info": {
   "codemirror_mode": {
    "name": "ipython",
    "version": 3
   },
   "file_extension": ".py",
   "mimetype": "text/x-python",
   "name": "python",
   "nbconvert_exporter": "python",
   "pygments_lexer": "ipython3",
   "version": "3.9.19"
  },
  "toc": {
   "base_numbering": 1,
   "nav_menu": {},
   "number_sections": true,
   "sideBar": true,
   "skip_h1_title": true,
   "title_cell": "Table of Contents",
   "title_sidebar": "Contents",
   "toc_cell": false,
   "toc_position": {},
   "toc_section_display": true,
   "toc_window_display": false
  },
  "vscode": {
   "interpreter": {
    "hash": "ac629f305345b17df6668bc9b17021b4f12075c260532782c34ed55a489bc20f"
   }
  }
 },
 "nbformat": 4,
 "nbformat_minor": 4
}
